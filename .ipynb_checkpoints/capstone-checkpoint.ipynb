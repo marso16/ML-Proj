{
 "cells": [
  {
   "cell_type": "code",
   "execution_count": null,
   "id": "adde0860",
   "metadata": {
    "ExecuteTime": {
     "start_time": "2024-02-24T07:40:28.913322400Z"
    },
    "_cell_guid": "b1076dfc-b9ad-4769-8c92-a6c4dae69d19",
    "_uuid": "8f2839f25d086af736a60e9eeb907d3b93b6e0e5",
    "execution": {
     "iopub.execute_input": "2024-02-14T13:58:15.299584Z",
     "iopub.status.busy": "2024-02-14T13:58:15.298821Z",
     "iopub.status.idle": "2024-02-14T13:58:16.051300Z",
     "shell.execute_reply": "2024-02-14T13:58:16.050439Z"
    },
    "is_executing": true,
    "papermill": {
     "duration": 0.769834,
     "end_time": "2024-02-14T13:58:16.053620",
     "exception": false,
     "start_time": "2024-02-14T13:58:15.283786",
     "status": "completed"
    },
    "tags": []
   },
   "outputs": [],
   "source": [
    "import numpy as np\n",
    "import pandas as pd\n",
    "import os\n",
    "\n",
    "for dirname, _, filenames in os.walk('/csv_files'):\n",
    "    for filename in filenames:\n",
    "        print(os.path.join(dirname, filename))"
   ]
  },
  {
   "cell_type": "code",
   "execution_count": 3,
   "id": "ad0815fa",
   "metadata": {
    "ExecuteTime": {
     "end_time": "2024-02-18T10:34:37.851998400Z",
     "start_time": "2024-02-18T10:34:37.808748900Z"
    },
    "execution": {
     "iopub.execute_input": "2024-02-14T13:58:16.081687Z",
     "iopub.status.busy": "2024-02-14T13:58:16.081284Z",
     "iopub.status.idle": "2024-02-14T13:58:17.179692Z",
     "shell.execute_reply": "2024-02-14T13:58:17.178919Z"
    },
    "papermill": {
     "duration": 1.114937,
     "end_time": "2024-02-14T13:58:17.182042",
     "exception": false,
     "start_time": "2024-02-14T13:58:16.067105",
     "status": "completed"
    },
    "tags": []
   },
   "outputs": [],
   "source": [
    "from itertools import combinations\n",
    "import seaborn as sns\n",
    "import matplotlib.pyplot as plt"
   ]
  },
  {
   "cell_type": "code",
   "execution_count": 3,
   "id": "8b20d8ce",
   "metadata": {
    "ExecuteTime": {
     "end_time": "2024-02-17T23:04:18.455703200Z",
     "start_time": "2024-02-17T23:04:02.198699500Z"
    },
    "execution": {
     "iopub.execute_input": "2024-02-14T13:58:17.209894Z",
     "iopub.status.busy": "2024-02-14T13:58:17.209487Z",
     "iopub.status.idle": "2024-02-14T13:58:50.407985Z",
     "shell.execute_reply": "2024-02-14T13:58:50.406442Z"
    },
    "papermill": {
     "duration": 33.227619,
     "end_time": "2024-02-14T13:58:50.423201",
     "exception": false,
     "start_time": "2024-02-14T13:58:17.195582",
     "status": "completed"
    },
    "tags": []
   },
   "outputs": [
    {
     "data": {
      "text/html": [
       "<div>\n",
       "<style scoped>\n",
       "    .dataframe tbody tr th:only-of-type {\n",
       "        vertical-align: middle;\n",
       "    }\n",
       "\n",
       "    .dataframe tbody tr th {\n",
       "        vertical-align: top;\n",
       "    }\n",
       "\n",
       "    .dataframe thead th {\n",
       "        text-align: right;\n",
       "    }\n",
       "</style>\n",
       "<table border=\"1\" class=\"dataframe\">\n",
       "  <thead>\n",
       "    <tr style=\"text-align: right;\">\n",
       "      <th></th>\n",
       "      <th>Destination Port</th>\n",
       "      <th>Flow Duration</th>\n",
       "      <th>Total Fwd Packets</th>\n",
       "      <th>Total Backward Packets</th>\n",
       "      <th>Total Length of Fwd Packets</th>\n",
       "      <th>Total Length of Bwd Packets</th>\n",
       "      <th>Fwd Packet Length Max</th>\n",
       "      <th>Fwd Packet Length Min</th>\n",
       "      <th>Fwd Packet Length Mean</th>\n",
       "      <th>Fwd Packet Length Std</th>\n",
       "      <th>...</th>\n",
       "      <th>min_seg_size_forward</th>\n",
       "      <th>Active Mean</th>\n",
       "      <th>Active Std</th>\n",
       "      <th>Active Max</th>\n",
       "      <th>Active Min</th>\n",
       "      <th>Idle Mean</th>\n",
       "      <th>Idle Std</th>\n",
       "      <th>Idle Max</th>\n",
       "      <th>Idle Min</th>\n",
       "      <th>Label</th>\n",
       "    </tr>\n",
       "  </thead>\n",
       "  <tbody>\n",
       "    <tr>\n",
       "      <th>0</th>\n",
       "      <td>54865</td>\n",
       "      <td>3</td>\n",
       "      <td>2</td>\n",
       "      <td>0</td>\n",
       "      <td>12</td>\n",
       "      <td>0</td>\n",
       "      <td>6</td>\n",
       "      <td>6</td>\n",
       "      <td>6.0</td>\n",
       "      <td>0.0</td>\n",
       "      <td>...</td>\n",
       "      <td>20</td>\n",
       "      <td>0.0</td>\n",
       "      <td>0.0</td>\n",
       "      <td>0</td>\n",
       "      <td>0</td>\n",
       "      <td>0.0</td>\n",
       "      <td>0.0</td>\n",
       "      <td>0</td>\n",
       "      <td>0</td>\n",
       "      <td>BENIGN</td>\n",
       "    </tr>\n",
       "    <tr>\n",
       "      <th>1</th>\n",
       "      <td>55054</td>\n",
       "      <td>109</td>\n",
       "      <td>1</td>\n",
       "      <td>1</td>\n",
       "      <td>6</td>\n",
       "      <td>6</td>\n",
       "      <td>6</td>\n",
       "      <td>6</td>\n",
       "      <td>6.0</td>\n",
       "      <td>0.0</td>\n",
       "      <td>...</td>\n",
       "      <td>20</td>\n",
       "      <td>0.0</td>\n",
       "      <td>0.0</td>\n",
       "      <td>0</td>\n",
       "      <td>0</td>\n",
       "      <td>0.0</td>\n",
       "      <td>0.0</td>\n",
       "      <td>0</td>\n",
       "      <td>0</td>\n",
       "      <td>BENIGN</td>\n",
       "    </tr>\n",
       "    <tr>\n",
       "      <th>2</th>\n",
       "      <td>55055</td>\n",
       "      <td>52</td>\n",
       "      <td>1</td>\n",
       "      <td>1</td>\n",
       "      <td>6</td>\n",
       "      <td>6</td>\n",
       "      <td>6</td>\n",
       "      <td>6</td>\n",
       "      <td>6.0</td>\n",
       "      <td>0.0</td>\n",
       "      <td>...</td>\n",
       "      <td>20</td>\n",
       "      <td>0.0</td>\n",
       "      <td>0.0</td>\n",
       "      <td>0</td>\n",
       "      <td>0</td>\n",
       "      <td>0.0</td>\n",
       "      <td>0.0</td>\n",
       "      <td>0</td>\n",
       "      <td>0</td>\n",
       "      <td>BENIGN</td>\n",
       "    </tr>\n",
       "    <tr>\n",
       "      <th>3</th>\n",
       "      <td>46236</td>\n",
       "      <td>34</td>\n",
       "      <td>1</td>\n",
       "      <td>1</td>\n",
       "      <td>6</td>\n",
       "      <td>6</td>\n",
       "      <td>6</td>\n",
       "      <td>6</td>\n",
       "      <td>6.0</td>\n",
       "      <td>0.0</td>\n",
       "      <td>...</td>\n",
       "      <td>20</td>\n",
       "      <td>0.0</td>\n",
       "      <td>0.0</td>\n",
       "      <td>0</td>\n",
       "      <td>0</td>\n",
       "      <td>0.0</td>\n",
       "      <td>0.0</td>\n",
       "      <td>0</td>\n",
       "      <td>0</td>\n",
       "      <td>BENIGN</td>\n",
       "    </tr>\n",
       "    <tr>\n",
       "      <th>4</th>\n",
       "      <td>54863</td>\n",
       "      <td>3</td>\n",
       "      <td>2</td>\n",
       "      <td>0</td>\n",
       "      <td>12</td>\n",
       "      <td>0</td>\n",
       "      <td>6</td>\n",
       "      <td>6</td>\n",
       "      <td>6.0</td>\n",
       "      <td>0.0</td>\n",
       "      <td>...</td>\n",
       "      <td>20</td>\n",
       "      <td>0.0</td>\n",
       "      <td>0.0</td>\n",
       "      <td>0</td>\n",
       "      <td>0</td>\n",
       "      <td>0.0</td>\n",
       "      <td>0.0</td>\n",
       "      <td>0</td>\n",
       "      <td>0</td>\n",
       "      <td>BENIGN</td>\n",
       "    </tr>\n",
       "  </tbody>\n",
       "</table>\n",
       "<p>5 rows × 79 columns</p>\n",
       "</div>"
      ],
      "text/plain": [
       "    Destination Port   Flow Duration   Total Fwd Packets  \\\n",
       "0              54865               3                   2   \n",
       "1              55054             109                   1   \n",
       "2              55055              52                   1   \n",
       "3              46236              34                   1   \n",
       "4              54863               3                   2   \n",
       "\n",
       "    Total Backward Packets  Total Length of Fwd Packets  \\\n",
       "0                        0                           12   \n",
       "1                        1                            6   \n",
       "2                        1                            6   \n",
       "3                        1                            6   \n",
       "4                        0                           12   \n",
       "\n",
       "    Total Length of Bwd Packets   Fwd Packet Length Max  \\\n",
       "0                             0                       6   \n",
       "1                             6                       6   \n",
       "2                             6                       6   \n",
       "3                             6                       6   \n",
       "4                             0                       6   \n",
       "\n",
       "    Fwd Packet Length Min   Fwd Packet Length Mean   Fwd Packet Length Std  \\\n",
       "0                       6                      6.0                     0.0   \n",
       "1                       6                      6.0                     0.0   \n",
       "2                       6                      6.0                     0.0   \n",
       "3                       6                      6.0                     0.0   \n",
       "4                       6                      6.0                     0.0   \n",
       "\n",
       "   ...   min_seg_size_forward  Active Mean   Active Std   Active Max  \\\n",
       "0  ...                     20          0.0          0.0            0   \n",
       "1  ...                     20          0.0          0.0            0   \n",
       "2  ...                     20          0.0          0.0            0   \n",
       "3  ...                     20          0.0          0.0            0   \n",
       "4  ...                     20          0.0          0.0            0   \n",
       "\n",
       "    Active Min  Idle Mean   Idle Std   Idle Max   Idle Min   Label  \n",
       "0            0        0.0        0.0          0          0  BENIGN  \n",
       "1            0        0.0        0.0          0          0  BENIGN  \n",
       "2            0        0.0        0.0          0          0  BENIGN  \n",
       "3            0        0.0        0.0          0          0  BENIGN  \n",
       "4            0        0.0        0.0          0          0  BENIGN  \n",
       "\n",
       "[5 rows x 79 columns]"
      ]
     },
     "execution_count": 3,
     "metadata": {},
     "output_type": "execute_result"
    }
   ],
   "source": [
    "dataset_csv_path='./csv_files/'\n",
    "csv_file_names= ['Friday-WorkingHours-Afternoon-DDos.pcap_ISCX.csv'\n",
    ",'Friday-WorkingHours-Afternoon-PortScan.pcap_ISCX.csv',\n",
    "'Friday-WorkingHours-Morning.pcap_ISCX.csv'\n",
    ",'Monday-WorkingHours.pcap_ISCX.csv',\n",
    "'Thursday-WorkingHours-Afternoon-Infilteration.pcap_ISCX.csv',\n",
    "'Thursday-WorkingHours-Morning-WebAttacks.pcap_ISCX.csv',\n",
    "'Tuesday-WorkingHours.pcap_ISCX.csv',\n",
    "'Wednesday-workingHours.pcap_ISCX.csv']\n",
    "full_path = []\n",
    "for csv_file in csv_file_names:\n",
    "    full_path.append(os.path.join(dataset_csv_path,csv_file))\n",
    "df = pd.concat(map(pd.read_csv,full_path), ignore_index = True)\n",
    "df.head()"
   ]
  },
  {
   "cell_type": "code",
   "execution_count": 4,
   "id": "f560f821",
   "metadata": {
    "ExecuteTime": {
     "end_time": "2024-02-17T23:04:18.501282300Z",
     "start_time": "2024-02-17T23:04:18.457891900Z"
    },
    "execution": {
     "iopub.execute_input": "2024-02-14T13:58:50.453047Z",
     "iopub.status.busy": "2024-02-14T13:58:50.452290Z",
     "iopub.status.idle": "2024-02-14T13:58:50.457710Z",
     "shell.execute_reply": "2024-02-14T13:58:50.456850Z"
    },
    "papermill": {
     "duration": 0.022181,
     "end_time": "2024-02-14T13:58:50.459888",
     "exception": false,
     "start_time": "2024-02-14T13:58:50.437707",
     "status": "completed"
    },
    "tags": []
   },
   "outputs": [
    {
     "name": "stdout",
     "output_type": "stream",
     "text": [
      "The columns present in the dataset are:  Index([' Destination Port', ' Flow Duration', ' Total Fwd Packets',\n",
      "       ' Total Backward Packets', 'Total Length of Fwd Packets',\n",
      "       ' Total Length of Bwd Packets', ' Fwd Packet Length Max',\n",
      "       ' Fwd Packet Length Min', ' Fwd Packet Length Mean',\n",
      "       ' Fwd Packet Length Std', 'Bwd Packet Length Max',\n",
      "       ' Bwd Packet Length Min', ' Bwd Packet Length Mean',\n",
      "       ' Bwd Packet Length Std', 'Flow Bytes/s', ' Flow Packets/s',\n",
      "       ' Flow IAT Mean', ' Flow IAT Std', ' Flow IAT Max', ' Flow IAT Min',\n",
      "       'Fwd IAT Total', ' Fwd IAT Mean', ' Fwd IAT Std', ' Fwd IAT Max',\n",
      "       ' Fwd IAT Min', 'Bwd IAT Total', ' Bwd IAT Mean', ' Bwd IAT Std',\n",
      "       ' Bwd IAT Max', ' Bwd IAT Min', 'Fwd PSH Flags', ' Bwd PSH Flags',\n",
      "       ' Fwd URG Flags', ' Bwd URG Flags', ' Fwd Header Length',\n",
      "       ' Bwd Header Length', 'Fwd Packets/s', ' Bwd Packets/s',\n",
      "       ' Min Packet Length', ' Max Packet Length', ' Packet Length Mean',\n",
      "       ' Packet Length Std', ' Packet Length Variance', 'FIN Flag Count',\n",
      "       ' SYN Flag Count', ' RST Flag Count', ' PSH Flag Count',\n",
      "       ' ACK Flag Count', ' URG Flag Count', ' CWE Flag Count',\n",
      "       ' ECE Flag Count', ' Down/Up Ratio', ' Average Packet Size',\n",
      "       ' Avg Fwd Segment Size', ' Avg Bwd Segment Size',\n",
      "       ' Fwd Header Length.1', 'Fwd Avg Bytes/Bulk', ' Fwd Avg Packets/Bulk',\n",
      "       ' Fwd Avg Bulk Rate', ' Bwd Avg Bytes/Bulk', ' Bwd Avg Packets/Bulk',\n",
      "       'Bwd Avg Bulk Rate', 'Subflow Fwd Packets', ' Subflow Fwd Bytes',\n",
      "       ' Subflow Bwd Packets', ' Subflow Bwd Bytes', 'Init_Win_bytes_forward',\n",
      "       ' Init_Win_bytes_backward', ' act_data_pkt_fwd',\n",
      "       ' min_seg_size_forward', 'Active Mean', ' Active Std', ' Active Max',\n",
      "       ' Active Min', 'Idle Mean', ' Idle Std', ' Idle Max', ' Idle Min',\n",
      "       ' Label'],\n",
      "      dtype='object')\n"
     ]
    }
   ],
   "source": [
    "print(\"The columns present in the dataset are: \", df.columns)"
   ]
  },
  {
   "cell_type": "code",
   "execution_count": 5,
   "id": "4ddb81c1",
   "metadata": {
    "ExecuteTime": {
     "end_time": "2024-02-17T23:04:18.653341200Z",
     "start_time": "2024-02-17T23:04:18.471231600Z"
    },
    "execution": {
     "iopub.execute_input": "2024-02-14T13:58:50.488390Z",
     "iopub.status.busy": "2024-02-14T13:58:50.487892Z",
     "iopub.status.idle": "2024-02-14T13:58:50.508739Z",
     "shell.execute_reply": "2024-02-14T13:58:50.507837Z"
    },
    "papermill": {
     "duration": 0.037617,
     "end_time": "2024-02-14T13:58:50.511127",
     "exception": false,
     "start_time": "2024-02-14T13:58:50.473510",
     "status": "completed"
    },
    "tags": []
   },
   "outputs": [
    {
     "name": "stdout",
     "output_type": "stream",
     "text": [
      "<class 'pandas.core.frame.DataFrame'>\n",
      "RangeIndex: 2830743 entries, 0 to 2830742\n",
      "Data columns (total 79 columns):\n",
      " #   Column                        Dtype  \n",
      "---  ------                        -----  \n",
      " 0    Destination Port             int64  \n",
      " 1    Flow Duration                int64  \n",
      " 2    Total Fwd Packets            int64  \n",
      " 3    Total Backward Packets       int64  \n",
      " 4   Total Length of Fwd Packets   int64  \n",
      " 5    Total Length of Bwd Packets  int64  \n",
      " 6    Fwd Packet Length Max        int64  \n",
      " 7    Fwd Packet Length Min        int64  \n",
      " 8    Fwd Packet Length Mean       float64\n",
      " 9    Fwd Packet Length Std        float64\n",
      " 10  Bwd Packet Length Max         int64  \n",
      " 11   Bwd Packet Length Min        int64  \n",
      " 12   Bwd Packet Length Mean       float64\n",
      " 13   Bwd Packet Length Std        float64\n",
      " 14  Flow Bytes/s                  float64\n",
      " 15   Flow Packets/s               float64\n",
      " 16   Flow IAT Mean                float64\n",
      " 17   Flow IAT Std                 float64\n",
      " 18   Flow IAT Max                 int64  \n",
      " 19   Flow IAT Min                 int64  \n",
      " 20  Fwd IAT Total                 int64  \n",
      " 21   Fwd IAT Mean                 float64\n",
      " 22   Fwd IAT Std                  float64\n",
      " 23   Fwd IAT Max                  int64  \n",
      " 24   Fwd IAT Min                  int64  \n",
      " 25  Bwd IAT Total                 int64  \n",
      " 26   Bwd IAT Mean                 float64\n",
      " 27   Bwd IAT Std                  float64\n",
      " 28   Bwd IAT Max                  int64  \n",
      " 29   Bwd IAT Min                  int64  \n",
      " 30  Fwd PSH Flags                 int64  \n",
      " 31   Bwd PSH Flags                int64  \n",
      " 32   Fwd URG Flags                int64  \n",
      " 33   Bwd URG Flags                int64  \n",
      " 34   Fwd Header Length            int64  \n",
      " 35   Bwd Header Length            int64  \n",
      " 36  Fwd Packets/s                 float64\n",
      " 37   Bwd Packets/s                float64\n",
      " 38   Min Packet Length            int64  \n",
      " 39   Max Packet Length            int64  \n",
      " 40   Packet Length Mean           float64\n",
      " 41   Packet Length Std            float64\n",
      " 42   Packet Length Variance       float64\n",
      " 43  FIN Flag Count                int64  \n",
      " 44   SYN Flag Count               int64  \n",
      " 45   RST Flag Count               int64  \n",
      " 46   PSH Flag Count               int64  \n",
      " 47   ACK Flag Count               int64  \n",
      " 48   URG Flag Count               int64  \n",
      " 49   CWE Flag Count               int64  \n",
      " 50   ECE Flag Count               int64  \n",
      " 51   Down/Up Ratio                int64  \n",
      " 52   Average Packet Size          float64\n",
      " 53   Avg Fwd Segment Size         float64\n",
      " 54   Avg Bwd Segment Size         float64\n",
      " 55   Fwd Header Length.1          int64  \n",
      " 56  Fwd Avg Bytes/Bulk            int64  \n",
      " 57   Fwd Avg Packets/Bulk         int64  \n",
      " 58   Fwd Avg Bulk Rate            int64  \n",
      " 59   Bwd Avg Bytes/Bulk           int64  \n",
      " 60   Bwd Avg Packets/Bulk         int64  \n",
      " 61  Bwd Avg Bulk Rate             int64  \n",
      " 62  Subflow Fwd Packets           int64  \n",
      " 63   Subflow Fwd Bytes            int64  \n",
      " 64   Subflow Bwd Packets          int64  \n",
      " 65   Subflow Bwd Bytes            int64  \n",
      " 66  Init_Win_bytes_forward        int64  \n",
      " 67   Init_Win_bytes_backward      int64  \n",
      " 68   act_data_pkt_fwd             int64  \n",
      " 69   min_seg_size_forward         int64  \n",
      " 70  Active Mean                   float64\n",
      " 71   Active Std                   float64\n",
      " 72   Active Max                   int64  \n",
      " 73   Active Min                   int64  \n",
      " 74  Idle Mean                     float64\n",
      " 75   Idle Std                     float64\n",
      " 76   Idle Max                     int64  \n",
      " 77   Idle Min                     int64  \n",
      " 78   Label                        object \n",
      "dtypes: float64(24), int64(54), object(1)\n",
      "memory usage: 1.7+ GB\n"
     ]
    }
   ],
   "source": [
    "df.info()"
   ]
  },
  {
   "cell_type": "code",
   "execution_count": 6,
   "id": "14cb29aa",
   "metadata": {
    "ExecuteTime": {
     "end_time": "2024-02-17T23:04:24.114930300Z",
     "start_time": "2024-02-17T23:04:18.503382500Z"
    },
    "execution": {
     "iopub.execute_input": "2024-02-14T13:58:50.540412Z",
     "iopub.status.busy": "2024-02-14T13:58:50.539756Z",
     "iopub.status.idle": "2024-02-14T13:58:58.125316Z",
     "shell.execute_reply": "2024-02-14T13:58:58.124333Z"
    },
    "papermill": {
     "duration": 7.602816,
     "end_time": "2024-02-14T13:58:58.127798",
     "exception": false,
     "start_time": "2024-02-14T13:58:50.524982",
     "status": "completed"
    },
    "tags": []
   },
   "outputs": [
    {
     "data": {
      "text/html": [
       "<div>\n",
       "<style scoped>\n",
       "    .dataframe tbody tr th:only-of-type {\n",
       "        vertical-align: middle;\n",
       "    }\n",
       "\n",
       "    .dataframe tbody tr th {\n",
       "        vertical-align: top;\n",
       "    }\n",
       "\n",
       "    .dataframe thead th {\n",
       "        text-align: right;\n",
       "    }\n",
       "</style>\n",
       "<table border=\"1\" class=\"dataframe\">\n",
       "  <thead>\n",
       "    <tr style=\"text-align: right;\">\n",
       "      <th></th>\n",
       "      <th>Destination Port</th>\n",
       "      <th>Flow Duration</th>\n",
       "      <th>Total Fwd Packets</th>\n",
       "      <th>Total Backward Packets</th>\n",
       "      <th>Total Length of Fwd Packets</th>\n",
       "      <th>Total Length of Bwd Packets</th>\n",
       "      <th>Fwd Packet Length Max</th>\n",
       "      <th>Fwd Packet Length Min</th>\n",
       "      <th>Fwd Packet Length Mean</th>\n",
       "      <th>Fwd Packet Length Std</th>\n",
       "      <th>...</th>\n",
       "      <th>act_data_pkt_fwd</th>\n",
       "      <th>min_seg_size_forward</th>\n",
       "      <th>Active Mean</th>\n",
       "      <th>Active Std</th>\n",
       "      <th>Active Max</th>\n",
       "      <th>Active Min</th>\n",
       "      <th>Idle Mean</th>\n",
       "      <th>Idle Std</th>\n",
       "      <th>Idle Max</th>\n",
       "      <th>Idle Min</th>\n",
       "    </tr>\n",
       "  </thead>\n",
       "  <tbody>\n",
       "    <tr>\n",
       "      <th>count</th>\n",
       "      <td>2.830743e+06</td>\n",
       "      <td>2.830743e+06</td>\n",
       "      <td>2.830743e+06</td>\n",
       "      <td>2.830743e+06</td>\n",
       "      <td>2.830743e+06</td>\n",
       "      <td>2.830743e+06</td>\n",
       "      <td>2.830743e+06</td>\n",
       "      <td>2.830743e+06</td>\n",
       "      <td>2.830743e+06</td>\n",
       "      <td>2.830743e+06</td>\n",
       "      <td>...</td>\n",
       "      <td>2.830743e+06</td>\n",
       "      <td>2.830743e+06</td>\n",
       "      <td>2.830743e+06</td>\n",
       "      <td>2.830743e+06</td>\n",
       "      <td>2.830743e+06</td>\n",
       "      <td>2.830743e+06</td>\n",
       "      <td>2.830743e+06</td>\n",
       "      <td>2.830743e+06</td>\n",
       "      <td>2.830743e+06</td>\n",
       "      <td>2.830743e+06</td>\n",
       "    </tr>\n",
       "    <tr>\n",
       "      <th>mean</th>\n",
       "      <td>8.071483e+03</td>\n",
       "      <td>1.478566e+07</td>\n",
       "      <td>9.361160e+00</td>\n",
       "      <td>1.039377e+01</td>\n",
       "      <td>5.493024e+02</td>\n",
       "      <td>1.616264e+04</td>\n",
       "      <td>2.075999e+02</td>\n",
       "      <td>1.871366e+01</td>\n",
       "      <td>5.820194e+01</td>\n",
       "      <td>6.891013e+01</td>\n",
       "      <td>...</td>\n",
       "      <td>5.418218e+00</td>\n",
       "      <td>-2.741688e+03</td>\n",
       "      <td>8.155132e+04</td>\n",
       "      <td>4.113412e+04</td>\n",
       "      <td>1.531825e+05</td>\n",
       "      <td>5.829582e+04</td>\n",
       "      <td>8.316037e+06</td>\n",
       "      <td>5.038439e+05</td>\n",
       "      <td>8.695752e+06</td>\n",
       "      <td>7.920031e+06</td>\n",
       "    </tr>\n",
       "    <tr>\n",
       "      <th>std</th>\n",
       "      <td>1.828363e+04</td>\n",
       "      <td>3.365374e+07</td>\n",
       "      <td>7.496728e+02</td>\n",
       "      <td>9.973883e+02</td>\n",
       "      <td>9.993589e+03</td>\n",
       "      <td>2.263088e+06</td>\n",
       "      <td>7.171848e+02</td>\n",
       "      <td>6.033935e+01</td>\n",
       "      <td>1.860912e+02</td>\n",
       "      <td>2.811871e+02</td>\n",
       "      <td>...</td>\n",
       "      <td>6.364257e+02</td>\n",
       "      <td>1.084989e+06</td>\n",
       "      <td>6.485999e+05</td>\n",
       "      <td>3.933815e+05</td>\n",
       "      <td>1.025825e+06</td>\n",
       "      <td>5.770923e+05</td>\n",
       "      <td>2.363008e+07</td>\n",
       "      <td>4.602984e+06</td>\n",
       "      <td>2.436689e+07</td>\n",
       "      <td>2.336342e+07</td>\n",
       "    </tr>\n",
       "    <tr>\n",
       "      <th>min</th>\n",
       "      <td>0.000000e+00</td>\n",
       "      <td>-1.300000e+01</td>\n",
       "      <td>1.000000e+00</td>\n",
       "      <td>0.000000e+00</td>\n",
       "      <td>0.000000e+00</td>\n",
       "      <td>0.000000e+00</td>\n",
       "      <td>0.000000e+00</td>\n",
       "      <td>0.000000e+00</td>\n",
       "      <td>0.000000e+00</td>\n",
       "      <td>0.000000e+00</td>\n",
       "      <td>...</td>\n",
       "      <td>0.000000e+00</td>\n",
       "      <td>-5.368707e+08</td>\n",
       "      <td>0.000000e+00</td>\n",
       "      <td>0.000000e+00</td>\n",
       "      <td>0.000000e+00</td>\n",
       "      <td>0.000000e+00</td>\n",
       "      <td>0.000000e+00</td>\n",
       "      <td>0.000000e+00</td>\n",
       "      <td>0.000000e+00</td>\n",
       "      <td>0.000000e+00</td>\n",
       "    </tr>\n",
       "    <tr>\n",
       "      <th>25%</th>\n",
       "      <td>5.300000e+01</td>\n",
       "      <td>1.550000e+02</td>\n",
       "      <td>2.000000e+00</td>\n",
       "      <td>1.000000e+00</td>\n",
       "      <td>1.200000e+01</td>\n",
       "      <td>0.000000e+00</td>\n",
       "      <td>6.000000e+00</td>\n",
       "      <td>0.000000e+00</td>\n",
       "      <td>6.000000e+00</td>\n",
       "      <td>0.000000e+00</td>\n",
       "      <td>...</td>\n",
       "      <td>0.000000e+00</td>\n",
       "      <td>2.000000e+01</td>\n",
       "      <td>0.000000e+00</td>\n",
       "      <td>0.000000e+00</td>\n",
       "      <td>0.000000e+00</td>\n",
       "      <td>0.000000e+00</td>\n",
       "      <td>0.000000e+00</td>\n",
       "      <td>0.000000e+00</td>\n",
       "      <td>0.000000e+00</td>\n",
       "      <td>0.000000e+00</td>\n",
       "    </tr>\n",
       "    <tr>\n",
       "      <th>50%</th>\n",
       "      <td>8.000000e+01</td>\n",
       "      <td>3.131600e+04</td>\n",
       "      <td>2.000000e+00</td>\n",
       "      <td>2.000000e+00</td>\n",
       "      <td>6.200000e+01</td>\n",
       "      <td>1.230000e+02</td>\n",
       "      <td>3.700000e+01</td>\n",
       "      <td>2.000000e+00</td>\n",
       "      <td>3.400000e+01</td>\n",
       "      <td>0.000000e+00</td>\n",
       "      <td>...</td>\n",
       "      <td>1.000000e+00</td>\n",
       "      <td>2.400000e+01</td>\n",
       "      <td>0.000000e+00</td>\n",
       "      <td>0.000000e+00</td>\n",
       "      <td>0.000000e+00</td>\n",
       "      <td>0.000000e+00</td>\n",
       "      <td>0.000000e+00</td>\n",
       "      <td>0.000000e+00</td>\n",
       "      <td>0.000000e+00</td>\n",
       "      <td>0.000000e+00</td>\n",
       "    </tr>\n",
       "    <tr>\n",
       "      <th>75%</th>\n",
       "      <td>4.430000e+02</td>\n",
       "      <td>3.204828e+06</td>\n",
       "      <td>5.000000e+00</td>\n",
       "      <td>4.000000e+00</td>\n",
       "      <td>1.870000e+02</td>\n",
       "      <td>4.820000e+02</td>\n",
       "      <td>8.100000e+01</td>\n",
       "      <td>3.600000e+01</td>\n",
       "      <td>5.000000e+01</td>\n",
       "      <td>2.616295e+01</td>\n",
       "      <td>...</td>\n",
       "      <td>2.000000e+00</td>\n",
       "      <td>3.200000e+01</td>\n",
       "      <td>0.000000e+00</td>\n",
       "      <td>0.000000e+00</td>\n",
       "      <td>0.000000e+00</td>\n",
       "      <td>0.000000e+00</td>\n",
       "      <td>0.000000e+00</td>\n",
       "      <td>0.000000e+00</td>\n",
       "      <td>0.000000e+00</td>\n",
       "      <td>0.000000e+00</td>\n",
       "    </tr>\n",
       "    <tr>\n",
       "      <th>max</th>\n",
       "      <td>6.553500e+04</td>\n",
       "      <td>1.200000e+08</td>\n",
       "      <td>2.197590e+05</td>\n",
       "      <td>2.919220e+05</td>\n",
       "      <td>1.290000e+07</td>\n",
       "      <td>6.554530e+08</td>\n",
       "      <td>2.482000e+04</td>\n",
       "      <td>2.325000e+03</td>\n",
       "      <td>5.940857e+03</td>\n",
       "      <td>7.125597e+03</td>\n",
       "      <td>...</td>\n",
       "      <td>2.135570e+05</td>\n",
       "      <td>1.380000e+02</td>\n",
       "      <td>1.100000e+08</td>\n",
       "      <td>7.420000e+07</td>\n",
       "      <td>1.100000e+08</td>\n",
       "      <td>1.100000e+08</td>\n",
       "      <td>1.200000e+08</td>\n",
       "      <td>7.690000e+07</td>\n",
       "      <td>1.200000e+08</td>\n",
       "      <td>1.200000e+08</td>\n",
       "    </tr>\n",
       "  </tbody>\n",
       "</table>\n",
       "<p>8 rows × 78 columns</p>\n",
       "</div>"
      ],
      "text/plain": [
       "        Destination Port   Flow Duration   Total Fwd Packets  \\\n",
       "count       2.830743e+06    2.830743e+06        2.830743e+06   \n",
       "mean        8.071483e+03    1.478566e+07        9.361160e+00   \n",
       "std         1.828363e+04    3.365374e+07        7.496728e+02   \n",
       "min         0.000000e+00   -1.300000e+01        1.000000e+00   \n",
       "25%         5.300000e+01    1.550000e+02        2.000000e+00   \n",
       "50%         8.000000e+01    3.131600e+04        2.000000e+00   \n",
       "75%         4.430000e+02    3.204828e+06        5.000000e+00   \n",
       "max         6.553500e+04    1.200000e+08        2.197590e+05   \n",
       "\n",
       "        Total Backward Packets  Total Length of Fwd Packets  \\\n",
       "count             2.830743e+06                 2.830743e+06   \n",
       "mean              1.039377e+01                 5.493024e+02   \n",
       "std               9.973883e+02                 9.993589e+03   \n",
       "min               0.000000e+00                 0.000000e+00   \n",
       "25%               1.000000e+00                 1.200000e+01   \n",
       "50%               2.000000e+00                 6.200000e+01   \n",
       "75%               4.000000e+00                 1.870000e+02   \n",
       "max               2.919220e+05                 1.290000e+07   \n",
       "\n",
       "        Total Length of Bwd Packets   Fwd Packet Length Max  \\\n",
       "count                  2.830743e+06            2.830743e+06   \n",
       "mean                   1.616264e+04            2.075999e+02   \n",
       "std                    2.263088e+06            7.171848e+02   \n",
       "min                    0.000000e+00            0.000000e+00   \n",
       "25%                    0.000000e+00            6.000000e+00   \n",
       "50%                    1.230000e+02            3.700000e+01   \n",
       "75%                    4.820000e+02            8.100000e+01   \n",
       "max                    6.554530e+08            2.482000e+04   \n",
       "\n",
       "        Fwd Packet Length Min   Fwd Packet Length Mean  \\\n",
       "count            2.830743e+06             2.830743e+06   \n",
       "mean             1.871366e+01             5.820194e+01   \n",
       "std              6.033935e+01             1.860912e+02   \n",
       "min              0.000000e+00             0.000000e+00   \n",
       "25%              0.000000e+00             6.000000e+00   \n",
       "50%              2.000000e+00             3.400000e+01   \n",
       "75%              3.600000e+01             5.000000e+01   \n",
       "max              2.325000e+03             5.940857e+03   \n",
       "\n",
       "        Fwd Packet Length Std  ...   act_data_pkt_fwd   min_seg_size_forward  \\\n",
       "count            2.830743e+06  ...       2.830743e+06           2.830743e+06   \n",
       "mean             6.891013e+01  ...       5.418218e+00          -2.741688e+03   \n",
       "std              2.811871e+02  ...       6.364257e+02           1.084989e+06   \n",
       "min              0.000000e+00  ...       0.000000e+00          -5.368707e+08   \n",
       "25%              0.000000e+00  ...       0.000000e+00           2.000000e+01   \n",
       "50%              0.000000e+00  ...       1.000000e+00           2.400000e+01   \n",
       "75%              2.616295e+01  ...       2.000000e+00           3.200000e+01   \n",
       "max              7.125597e+03  ...       2.135570e+05           1.380000e+02   \n",
       "\n",
       "        Active Mean    Active Std    Active Max    Active Min     Idle Mean  \\\n",
       "count  2.830743e+06  2.830743e+06  2.830743e+06  2.830743e+06  2.830743e+06   \n",
       "mean   8.155132e+04  4.113412e+04  1.531825e+05  5.829582e+04  8.316037e+06   \n",
       "std    6.485999e+05  3.933815e+05  1.025825e+06  5.770923e+05  2.363008e+07   \n",
       "min    0.000000e+00  0.000000e+00  0.000000e+00  0.000000e+00  0.000000e+00   \n",
       "25%    0.000000e+00  0.000000e+00  0.000000e+00  0.000000e+00  0.000000e+00   \n",
       "50%    0.000000e+00  0.000000e+00  0.000000e+00  0.000000e+00  0.000000e+00   \n",
       "75%    0.000000e+00  0.000000e+00  0.000000e+00  0.000000e+00  0.000000e+00   \n",
       "max    1.100000e+08  7.420000e+07  1.100000e+08  1.100000e+08  1.200000e+08   \n",
       "\n",
       "           Idle Std      Idle Max      Idle Min  \n",
       "count  2.830743e+06  2.830743e+06  2.830743e+06  \n",
       "mean   5.038439e+05  8.695752e+06  7.920031e+06  \n",
       "std    4.602984e+06  2.436689e+07  2.336342e+07  \n",
       "min    0.000000e+00  0.000000e+00  0.000000e+00  \n",
       "25%    0.000000e+00  0.000000e+00  0.000000e+00  \n",
       "50%    0.000000e+00  0.000000e+00  0.000000e+00  \n",
       "75%    0.000000e+00  0.000000e+00  0.000000e+00  \n",
       "max    7.690000e+07  1.200000e+08  1.200000e+08  \n",
       "\n",
       "[8 rows x 78 columns]"
      ]
     },
     "execution_count": 6,
     "metadata": {},
     "output_type": "execute_result"
    }
   ],
   "source": [
    "df.describe()"
   ]
  },
  {
   "cell_type": "code",
   "execution_count": 7,
   "id": "506884e8",
   "metadata": {
    "ExecuteTime": {
     "end_time": "2024-02-17T23:04:24.222296800Z",
     "start_time": "2024-02-17T23:04:24.101673200Z"
    },
    "execution": {
     "iopub.execute_input": "2024-02-14T13:58:58.158961Z",
     "iopub.status.busy": "2024-02-14T13:58:58.158668Z",
     "iopub.status.idle": "2024-02-14T13:58:58.359491Z",
     "shell.execute_reply": "2024-02-14T13:58:58.358507Z"
    },
    "papermill": {
     "duration": 0.21842,
     "end_time": "2024-02-14T13:58:58.361657",
     "exception": false,
     "start_time": "2024-02-14T13:58:58.143237",
     "status": "completed"
    },
    "tags": []
   },
   "outputs": [
    {
     "data": {
      "text/plain": [
       "15"
      ]
     },
     "execution_count": 7,
     "metadata": {},
     "output_type": "execute_result"
    }
   ],
   "source": [
    "df[' Label'].nunique()"
   ]
  },
  {
   "cell_type": "code",
   "execution_count": 8,
   "id": "268dff05",
   "metadata": {
    "ExecuteTime": {
     "end_time": "2024-02-17T23:04:51.523061100Z",
     "start_time": "2024-02-17T23:04:24.223369500Z"
    },
    "execution": {
     "iopub.execute_input": "2024-02-14T13:58:58.393422Z",
     "iopub.status.busy": "2024-02-14T13:58:58.393137Z",
     "iopub.status.idle": "2024-02-14T13:59:25.724379Z",
     "shell.execute_reply": "2024-02-14T13:59:25.723342Z"
    },
    "papermill": {
     "duration": 27.350435,
     "end_time": "2024-02-14T13:59:25.727259",
     "exception": false,
     "start_time": "2024-02-14T13:58:58.376824",
     "status": "completed"
    },
    "tags": []
   },
   "outputs": [
    {
     "name": "stdout",
     "output_type": "stream",
     "text": [
      "Dataset Shape:  (2830743, 79)\n",
      "Zero Variance Columns:  ['Bwd PSH Flags', 'Bwd URG Flags', 'Fwd Avg Bytes/Bulk', 'Fwd Avg Packets/Bulk', 'Fwd Avg Bulk Rate', 'Bwd Avg Bytes/Bulk', 'Bwd Avg Packets/Bulk', 'Bwd Avg Bulk Rate'] are dropped.\n",
      "Shape after removing the zero varaince columns:  (2830743, 71)\n",
      "2867 rows dropped\n",
      "Shape after Removing NaN:  (2827876, 71)\n",
      "Shape after dropping duplicates:  (2520798, 71)\n",
      "Columns which have identical values:  [('Total Fwd Packets', 'Subflow Fwd Packets'), ('Total Backward Packets', 'Subflow Bwd Packets'), ('Fwd PSH Flags', 'SYN Flag Count'), ('Fwd URG Flags', 'CWE Flag Count'), ('Fwd Header Length', 'Fwd Header Length.1')]  dropped!\n",
      "Shape after removing identical value columns:  (2520798, 66)\n"
     ]
    }
   ],
   "source": [
    "def data_cleaning(df):\n",
    "    df.columns=df.columns.str.strip()\n",
    "    print(\"Dataset Shape: \",df.shape)\n",
    "    \n",
    "    num=df._get_numeric_data()\n",
    "    num[num<0]=0\n",
    "    \n",
    "    zero_variance_cols=[]\n",
    "    for col in df.columns:\n",
    "        if len(df[col].unique()) == 1:\n",
    "            zero_variance_cols.append(col)\n",
    "    df.drop(columns=zero_variance_cols, axis = 1, inplace = True)\n",
    "    print(\"Zero Variance Columns: \", zero_variance_cols, \"are dropped.\")\n",
    "    print(\"Shape after removing the zero varaince columns: \", df.shape)\n",
    "    \n",
    "    df.replace([np.inf,-np.inf],np.nan,inplace=True)\n",
    "    print(df.isna().any(axis=1).sum(),\"rows dropped\")\n",
    "    df.dropna(inplace=True)\n",
    "    print(\"Shape after Removing NaN: \", df.shape)\n",
    "    \n",
    "    df.drop_duplicates(inplace=True)\n",
    "    print(\"Shape after dropping duplicates: \", df.shape)\n",
    "    \n",
    "    column_pairs = [(i,j) for i,j in combinations(df,2) if df[i].equals(df[j])]\n",
    "    ide_cols=[]\n",
    "    for col_pair in column_pairs:\n",
    "        ide_cols.append(col_pair[1])\n",
    "    df.drop(columns=ide_cols,axis=1,inplace=True)\n",
    "    print(\"Columns which have identical values: \",column_pairs,\" dropped!\")\n",
    "    print(\"Shape after removing identical value columns: \",df.shape)\n",
    "    return df\n",
    "df=data_cleaning(df)"
   ]
  },
  {
   "cell_type": "code",
   "execution_count": 9,
   "id": "fa3045bd",
   "metadata": {
    "ExecuteTime": {
     "end_time": "2024-02-17T23:04:51.652007600Z",
     "start_time": "2024-02-17T23:04:51.638281800Z"
    },
    "execution": {
     "iopub.execute_input": "2024-02-14T13:59:25.760186Z",
     "iopub.status.busy": "2024-02-14T13:59:25.759592Z",
     "iopub.status.idle": "2024-02-14T13:59:26.147485Z",
     "shell.execute_reply": "2024-02-14T13:59:26.146516Z"
    },
    "papermill": {
     "duration": 0.405908,
     "end_time": "2024-02-14T13:59:26.149455",
     "exception": false,
     "start_time": "2024-02-14T13:59:25.743547",
     "status": "completed"
    },
    "tags": []
   },
   "outputs": [
    {
     "data": {
      "text/plain": [
       "Label\n",
       "BENIGN                        2095057\n",
       "DoS Hulk                       172846\n",
       "DDoS                           128014\n",
       "PortScan                        90694\n",
       "DoS GoldenEye                   10286\n",
       "FTP-Patator                      5931\n",
       "DoS slowloris                    5385\n",
       "DoS Slowhttptest                 5228\n",
       "SSH-Patator                      3219\n",
       "Bot                              1948\n",
       "Web Attack � Brute Force         1470\n",
       "Web Attack � XSS                  652\n",
       "Infiltration                       36\n",
       "Web Attack � Sql Injection         21\n",
       "Heartbleed                         11\n",
       "Name: count, dtype: int64"
      ]
     },
     "execution_count": 9,
     "metadata": {},
     "output_type": "execute_result"
    }
   ],
   "source": [
    "df['Label'].value_counts()"
   ]
  },
  {
   "cell_type": "code",
   "execution_count": 1,
   "id": "8c49c878",
   "metadata": {
    "ExecuteTime": {
     "end_time": "2024-02-18T10:34:26.075758600Z",
     "start_time": "2024-02-18T10:34:25.293413800Z"
    },
    "execution": {
     "iopub.execute_input": "2024-02-14T13:59:26.181416Z",
     "iopub.status.busy": "2024-02-14T13:59:26.181126Z",
     "iopub.status.idle": "2024-02-14T13:59:32.227831Z",
     "shell.execute_reply": "2024-02-14T13:59:32.226915Z"
    },
    "papermill": {
     "duration": 6.064913,
     "end_time": "2024-02-14T13:59:32.229936",
     "exception": false,
     "start_time": "2024-02-14T13:59:26.165023",
     "status": "completed"
    },
    "tags": []
   },
   "outputs": [
    {
     "ename": "NameError",
     "evalue": "name 'plt' is not defined",
     "output_type": "error",
     "traceback": [
      "\u001b[1;31m---------------------------------------------------------------------------\u001b[0m",
      "\u001b[1;31mNameError\u001b[0m                                 Traceback (most recent call last)",
      "Cell \u001b[1;32mIn[1], line 1\u001b[0m\n\u001b[1;32m----> 1\u001b[0m \u001b[43mplt\u001b[49m\u001b[38;5;241m.\u001b[39mfigure(figsize\u001b[38;5;241m=\u001b[39m(\u001b[38;5;241m12\u001b[39m,\u001b[38;5;241m6\u001b[39m))\n\u001b[0;32m      2\u001b[0m plot\u001b[38;5;241m=\u001b[39msns\u001b[38;5;241m.\u001b[39mcountplot(data\u001b[38;5;241m=\u001b[39mdf[\u001b[38;5;124m'\u001b[39m\u001b[38;5;124mLabel\u001b[39m\u001b[38;5;124m'\u001b[39m],y\u001b[38;5;241m=\u001b[39mdf[\u001b[38;5;124m'\u001b[39m\u001b[38;5;124mLabel\u001b[39m\u001b[38;5;124m'\u001b[39m]\u001b[38;5;241m.\u001b[39mloc[df[\u001b[38;5;124m'\u001b[39m\u001b[38;5;124mLabel\u001b[39m\u001b[38;5;124m'\u001b[39m]\u001b[38;5;241m!=\u001b[39m\u001b[38;5;124m'\u001b[39m\u001b[38;5;124mBENIGNE\u001b[39m\u001b[38;5;124m'\u001b[39m])\n\u001b[0;32m      3\u001b[0m plt\u001b[38;5;241m.\u001b[39mxscale(\u001b[38;5;124m'\u001b[39m\u001b[38;5;124mlog\u001b[39m\u001b[38;5;124m'\u001b[39m)\n",
      "\u001b[1;31mNameError\u001b[0m: name 'plt' is not defined"
     ]
    }
   ],
   "source": [
    "plt.figure(figsize=(12,6))\n",
    "plot=sns.countplot(data=df['Label'],y=df['Label'].loc[df['Label']!='BENIGNE'])\n",
    "plt.xscale('log')\n",
    "fig=plot.get_figure()\n",
    "fig.savefig('img1.png')"
   ]
  },
  {
   "cell_type": "code",
   "execution_count": 11,
   "id": "6de4e05e",
   "metadata": {
    "ExecuteTime": {
     "end_time": "2024-02-17T23:05:00.711630400Z",
     "start_time": "2024-02-17T23:04:53.758652800Z"
    },
    "execution": {
     "iopub.execute_input": "2024-02-14T13:59:32.263621Z",
     "iopub.status.busy": "2024-02-14T13:59:32.262975Z",
     "iopub.status.idle": "2024-02-14T13:59:41.537249Z",
     "shell.execute_reply": "2024-02-14T13:59:41.536339Z"
    },
    "papermill": {
     "duration": 9.294809,
     "end_time": "2024-02-14T13:59:41.540948",
     "exception": false,
     "start_time": "2024-02-14T13:59:32.246139",
     "status": "completed"
    },
    "tags": []
   },
   "outputs": [
    {
     "name": "stderr",
     "output_type": "stream",
     "text": [
      "C:\\Users\\marck\\miniconda3\\lib\\site-packages\\IPython\\core\\pylabtools.py:152: UserWarning: Glyph 65533 (\\N{REPLACEMENT CHARACTER}) missing from current font.\n",
      "  fig.canvas.print_figure(bytes_io, **kw)\n"
     ]
    },
    {
     "data": {
      "image/png": "[encoded data removed]",
      "text/plain": [
       "<Figure size 640x480 with 1 Axes>"
      ]
     },
     "metadata": {},
     "output_type": "display_data"
    }
   ],
   "source": [
    "from sklearn.decomposition import PCA \n",
    "subsample_df=df.groupby('Label').apply(pd.DataFrame.sample,frac=0.1).reset_index(drop=True)\n",
    "x=subsample_df.drop(['Label'],axis=1)\n",
    "y=subsample_df['Label']\n",
    "\n",
    "pca=PCA(n_components=2, random_state=0)\n",
    "z=pca.fit_transform(x)\n",
    "\n",
    "pca_df=pd.DataFrame()\n",
    "pca_df['Label']=y\n",
    "pca_df['PCA 1']=z[:,0]\n",
    "pca_df['PCA 2']=z[:,1]\n",
    "\n",
    "sns.scatterplot(data=pca_df,x='PCA 1',y='PCA 2',hue='Label',palette=sns.color_palette('hls',len(pca_df.Label.value_counts()))).set_title(\"CICIDS2017 PCA Projection\")\n",
    "plt.legend(loc='center left',bbox_to_anchor=(1,0.5))\n",
    "plt.show()"
   ]
  },
  {
   "cell_type": "code",
   "execution_count": 12,
   "id": "036b806e",
   "metadata": {
    "ExecuteTime": {
     "end_time": "2024-02-17T23:05:04.753354500Z",
     "start_time": "2024-02-17T23:05:00.721705300Z"
    },
    "execution": {
     "iopub.execute_input": "2024-02-14T13:59:41.580515Z",
     "iopub.status.busy": "2024-02-14T13:59:41.579566Z",
     "iopub.status.idle": "2024-02-14T13:59:47.515231Z",
     "shell.execute_reply": "2024-02-14T13:59:47.514295Z"
    },
    "papermill": {
     "duration": 5.958459,
     "end_time": "2024-02-14T13:59:47.518484",
     "exception": false,
     "start_time": "2024-02-14T13:59:41.560025",
     "status": "completed"
    },
    "tags": []
   },
   "outputs": [
    {
     "data": {
      "image/png": "[encoded data removed]",
      "text/plain": [
       "<Figure size 640x480 with 1 Axes>"
      ]
     },
     "metadata": {},
     "output_type": "display_data"
    }
   ],
   "source": [
    " pca_df.loc[pca_df.Label !='BENIGN','Label']='ATTACK'\n",
    " sns.scatterplot(data=pca_df,x='PCA 1',y='PCA 2',hue=pca_df.Label,palette=sns.color_palette('hls',2)).set_title(\"CICIDS2017 Binary Class PCA Projection\")\n",
    " plt.legend(loc='center left',bbox_to_anchor=(1,0.5))\n",
    " plt.show()"
   ]
  },
  {
   "cell_type": "code",
   "execution_count": 13,
   "id": "137c876b",
   "metadata": {
    "ExecuteTime": {
     "end_time": "2024-02-17T23:05:04.864224600Z",
     "start_time": "2024-02-17T23:05:04.756531400Z"
    },
    "execution": {
     "iopub.execute_input": "2024-02-14T13:59:47.561201Z",
     "iopub.status.busy": "2024-02-14T13:59:47.560860Z",
     "iopub.status.idle": "2024-02-14T13:59:47.585088Z",
     "shell.execute_reply": "2024-02-14T13:59:47.584191Z"
    },
    "papermill": {
     "duration": 0.048007,
     "end_time": "2024-02-14T13:59:47.587090",
     "exception": false,
     "start_time": "2024-02-14T13:59:47.539083",
     "status": "completed"
    },
    "tags": []
   },
   "outputs": [
    {
     "data": {
      "text/html": [
       "<div>\n",
       "<style scoped>\n",
       "    .dataframe tbody tr th:only-of-type {\n",
       "        vertical-align: middle;\n",
       "    }\n",
       "\n",
       "    .dataframe tbody tr th {\n",
       "        vertical-align: top;\n",
       "    }\n",
       "\n",
       "    .dataframe thead th {\n",
       "        text-align: right;\n",
       "    }\n",
       "</style>\n",
       "<table border=\"1\" class=\"dataframe\">\n",
       "  <thead>\n",
       "    <tr style=\"text-align: right;\">\n",
       "      <th></th>\n",
       "      <th>destination_port</th>\n",
       "      <th>flow_duration</th>\n",
       "      <th>total_fwd_packets</th>\n",
       "      <th>total_backward_packets</th>\n",
       "      <th>total_length_of_fwd_packets</th>\n",
       "      <th>total_length_of_bwd_packets</th>\n",
       "      <th>fwd_packet_length_max</th>\n",
       "      <th>fwd_packet_length_min</th>\n",
       "      <th>fwd_packet_length_mean</th>\n",
       "      <th>fwd_packet_length_std</th>\n",
       "      <th>...</th>\n",
       "      <th>min_seg_size_forward</th>\n",
       "      <th>active_mean</th>\n",
       "      <th>active_std</th>\n",
       "      <th>active_max</th>\n",
       "      <th>active_min</th>\n",
       "      <th>idle_mean</th>\n",
       "      <th>idle_std</th>\n",
       "      <th>idle_max</th>\n",
       "      <th>idle_min</th>\n",
       "      <th>label</th>\n",
       "    </tr>\n",
       "  </thead>\n",
       "  <tbody>\n",
       "    <tr>\n",
       "      <th>0</th>\n",
       "      <td>54865</td>\n",
       "      <td>3</td>\n",
       "      <td>2</td>\n",
       "      <td>0</td>\n",
       "      <td>12</td>\n",
       "      <td>0</td>\n",
       "      <td>6</td>\n",
       "      <td>6</td>\n",
       "      <td>6.0</td>\n",
       "      <td>0.0</td>\n",
       "      <td>...</td>\n",
       "      <td>20</td>\n",
       "      <td>0.0</td>\n",
       "      <td>0.0</td>\n",
       "      <td>0</td>\n",
       "      <td>0</td>\n",
       "      <td>0.0</td>\n",
       "      <td>0.0</td>\n",
       "      <td>0</td>\n",
       "      <td>0</td>\n",
       "      <td>BENIGN</td>\n",
       "    </tr>\n",
       "    <tr>\n",
       "      <th>1</th>\n",
       "      <td>55054</td>\n",
       "      <td>109</td>\n",
       "      <td>1</td>\n",
       "      <td>1</td>\n",
       "      <td>6</td>\n",
       "      <td>6</td>\n",
       "      <td>6</td>\n",
       "      <td>6</td>\n",
       "      <td>6.0</td>\n",
       "      <td>0.0</td>\n",
       "      <td>...</td>\n",
       "      <td>20</td>\n",
       "      <td>0.0</td>\n",
       "      <td>0.0</td>\n",
       "      <td>0</td>\n",
       "      <td>0</td>\n",
       "      <td>0.0</td>\n",
       "      <td>0.0</td>\n",
       "      <td>0</td>\n",
       "      <td>0</td>\n",
       "      <td>BENIGN</td>\n",
       "    </tr>\n",
       "    <tr>\n",
       "      <th>2</th>\n",
       "      <td>55055</td>\n",
       "      <td>52</td>\n",
       "      <td>1</td>\n",
       "      <td>1</td>\n",
       "      <td>6</td>\n",
       "      <td>6</td>\n",
       "      <td>6</td>\n",
       "      <td>6</td>\n",
       "      <td>6.0</td>\n",
       "      <td>0.0</td>\n",
       "      <td>...</td>\n",
       "      <td>20</td>\n",
       "      <td>0.0</td>\n",
       "      <td>0.0</td>\n",
       "      <td>0</td>\n",
       "      <td>0</td>\n",
       "      <td>0.0</td>\n",
       "      <td>0.0</td>\n",
       "      <td>0</td>\n",
       "      <td>0</td>\n",
       "      <td>BENIGN</td>\n",
       "    </tr>\n",
       "    <tr>\n",
       "      <th>3</th>\n",
       "      <td>46236</td>\n",
       "      <td>34</td>\n",
       "      <td>1</td>\n",
       "      <td>1</td>\n",
       "      <td>6</td>\n",
       "      <td>6</td>\n",
       "      <td>6</td>\n",
       "      <td>6</td>\n",
       "      <td>6.0</td>\n",
       "      <td>0.0</td>\n",
       "      <td>...</td>\n",
       "      <td>20</td>\n",
       "      <td>0.0</td>\n",
       "      <td>0.0</td>\n",
       "      <td>0</td>\n",
       "      <td>0</td>\n",
       "      <td>0.0</td>\n",
       "      <td>0.0</td>\n",
       "      <td>0</td>\n",
       "      <td>0</td>\n",
       "      <td>BENIGN</td>\n",
       "    </tr>\n",
       "    <tr>\n",
       "      <th>4</th>\n",
       "      <td>54863</td>\n",
       "      <td>3</td>\n",
       "      <td>2</td>\n",
       "      <td>0</td>\n",
       "      <td>12</td>\n",
       "      <td>0</td>\n",
       "      <td>6</td>\n",
       "      <td>6</td>\n",
       "      <td>6.0</td>\n",
       "      <td>0.0</td>\n",
       "      <td>...</td>\n",
       "      <td>20</td>\n",
       "      <td>0.0</td>\n",
       "      <td>0.0</td>\n",
       "      <td>0</td>\n",
       "      <td>0</td>\n",
       "      <td>0.0</td>\n",
       "      <td>0.0</td>\n",
       "      <td>0</td>\n",
       "      <td>0</td>\n",
       "      <td>BENIGN</td>\n",
       "    </tr>\n",
       "  </tbody>\n",
       "</table>\n",
       "<p>5 rows × 66 columns</p>\n",
       "</div>"
      ],
      "text/plain": [
       "   destination_port  flow_duration  total_fwd_packets  total_backward_packets  \\\n",
       "0             54865              3                  2                       0   \n",
       "1             55054            109                  1                       1   \n",
       "2             55055             52                  1                       1   \n",
       "3             46236             34                  1                       1   \n",
       "4             54863              3                  2                       0   \n",
       "\n",
       "   total_length_of_fwd_packets  total_length_of_bwd_packets  \\\n",
       "0                           12                            0   \n",
       "1                            6                            6   \n",
       "2                            6                            6   \n",
       "3                            6                            6   \n",
       "4                           12                            0   \n",
       "\n",
       "   fwd_packet_length_max  fwd_packet_length_min  fwd_packet_length_mean  \\\n",
       "0                      6                      6                     6.0   \n",
       "1                      6                      6                     6.0   \n",
       "2                      6                      6                     6.0   \n",
       "3                      6                      6                     6.0   \n",
       "4                      6                      6                     6.0   \n",
       "\n",
       "   fwd_packet_length_std  ...  min_seg_size_forward  active_mean  active_std  \\\n",
       "0                    0.0  ...                    20          0.0         0.0   \n",
       "1                    0.0  ...                    20          0.0         0.0   \n",
       "2                    0.0  ...                    20          0.0         0.0   \n",
       "3                    0.0  ...                    20          0.0         0.0   \n",
       "4                    0.0  ...                    20          0.0         0.0   \n",
       "\n",
       "   active_max  active_min  idle_mean  idle_std  idle_max  idle_min   label  \n",
       "0           0           0        0.0       0.0         0         0  BENIGN  \n",
       "1           0           0        0.0       0.0         0         0  BENIGN  \n",
       "2           0           0        0.0       0.0         0         0  BENIGN  \n",
       "3           0           0        0.0       0.0         0         0  BENIGN  \n",
       "4           0           0        0.0       0.0         0         0  BENIGN  \n",
       "\n",
       "[5 rows x 66 columns]"
      ]
     },
     "execution_count": 13,
     "metadata": {},
     "output_type": "execute_result"
    }
   ],
   "source": [
    "df.columns=df.columns.str.strip().str.lower().str.replace(' ','_').str.replace('(','').str.replace(')','')\n",
    "df.head()"
   ]
  },
  {
   "cell_type": "code",
   "execution_count": 14,
   "id": "a638aa11",
   "metadata": {
    "ExecuteTime": {
     "end_time": "2024-02-17T23:05:05.039189500Z",
     "start_time": "2024-02-17T23:05:04.785877200Z"
    },
    "execution": {
     "iopub.execute_input": "2024-02-14T13:59:47.629797Z",
     "iopub.status.busy": "2024-02-14T13:59:47.629447Z",
     "iopub.status.idle": "2024-02-14T13:59:48.017902Z",
     "shell.execute_reply": "2024-02-14T13:59:48.016953Z"
    },
    "papermill": {
     "duration": 0.41228,
     "end_time": "2024-02-14T13:59:48.019945",
     "exception": false,
     "start_time": "2024-02-14T13:59:47.607665",
     "status": "completed"
    },
    "tags": []
   },
   "outputs": [
    {
     "data": {
      "text/plain": [
       "label\n",
       "BENIGN                        2095057\n",
       "DoS Hulk                       172846\n",
       "DDoS                           128014\n",
       "PortScan                        90694\n",
       "DoS GoldenEye                   10286\n",
       "FTP-Patator                      5931\n",
       "DoS slowloris                    5385\n",
       "DoS Slowhttptest                 5228\n",
       "SSH-Patator                      3219\n",
       "Bot                              1948\n",
       "Web Attack � Brute Force         1470\n",
       "Web Attack � XSS                  652\n",
       "Infiltration                       36\n",
       "Web Attack � Sql Injection         21\n",
       "Heartbleed                         11\n",
       "Name: count, dtype: int64"
      ]
     },
     "execution_count": 14,
     "metadata": {},
     "output_type": "execute_result"
    }
   ],
   "source": [
    "df['label'].value_counts()"
   ]
  },
  {
   "cell_type": "code",
   "execution_count": 15,
   "id": "52fe86d6",
   "metadata": {
    "ExecuteTime": {
     "end_time": "2024-02-17T23:05:05.298688300Z",
     "start_time": "2024-02-17T23:05:04.924677500Z"
    },
    "execution": {
     "iopub.execute_input": "2024-02-14T13:59:48.063875Z",
     "iopub.status.busy": "2024-02-14T13:59:48.063557Z",
     "iopub.status.idle": "2024-02-14T13:59:48.548942Z",
     "shell.execute_reply": "2024-02-14T13:59:48.547946Z"
    },
    "papermill": {
     "duration": 0.509593,
     "end_time": "2024-02-14T13:59:48.551384",
     "exception": false,
     "start_time": "2024-02-14T13:59:48.041791",
     "status": "completed"
    },
    "tags": []
   },
   "outputs": [],
   "source": [
    "new_df=df.copy()"
   ]
  },
  {
   "cell_type": "code",
   "execution_count": 16,
   "id": "57b0bb22",
   "metadata": {
    "ExecuteTime": {
     "end_time": "2024-02-17T23:05:05.460484900Z",
     "start_time": "2024-02-17T23:05:05.410573Z"
    },
    "execution": {
     "iopub.execute_input": "2024-02-14T13:59:48.600084Z",
     "iopub.status.busy": "2024-02-14T13:59:48.599704Z",
     "iopub.status.idle": "2024-02-14T13:59:49.053548Z",
     "shell.execute_reply": "2024-02-14T13:59:49.052514Z"
    },
    "papermill": {
     "duration": 0.480454,
     "end_time": "2024-02-14T13:59:49.055884",
     "exception": false,
     "start_time": "2024-02-14T13:59:48.575430",
     "status": "completed"
    },
    "tags": []
   },
   "outputs": [
    {
     "data": {
      "text/html": [
       "<div>\n",
       "<style scoped>\n",
       "    .dataframe tbody tr th:only-of-type {\n",
       "        vertical-align: middle;\n",
       "    }\n",
       "\n",
       "    .dataframe tbody tr th {\n",
       "        vertical-align: top;\n",
       "    }\n",
       "\n",
       "    .dataframe thead th {\n",
       "        text-align: right;\n",
       "    }\n",
       "</style>\n",
       "<table border=\"1\" class=\"dataframe\">\n",
       "  <thead>\n",
       "    <tr style=\"text-align: right;\">\n",
       "      <th></th>\n",
       "      <th>destination_port</th>\n",
       "      <th>flow_duration</th>\n",
       "      <th>total_fwd_packets</th>\n",
       "      <th>total_backward_packets</th>\n",
       "      <th>total_length_of_fwd_packets</th>\n",
       "      <th>total_length_of_bwd_packets</th>\n",
       "      <th>fwd_packet_length_max</th>\n",
       "      <th>fwd_packet_length_min</th>\n",
       "      <th>fwd_packet_length_mean</th>\n",
       "      <th>fwd_packet_length_std</th>\n",
       "      <th>...</th>\n",
       "      <th>min_seg_size_forward</th>\n",
       "      <th>active_mean</th>\n",
       "      <th>active_std</th>\n",
       "      <th>active_max</th>\n",
       "      <th>active_min</th>\n",
       "      <th>idle_mean</th>\n",
       "      <th>idle_std</th>\n",
       "      <th>idle_max</th>\n",
       "      <th>idle_min</th>\n",
       "      <th>label</th>\n",
       "    </tr>\n",
       "  </thead>\n",
       "  <tbody>\n",
       "    <tr>\n",
       "      <th>0</th>\n",
       "      <td>54865</td>\n",
       "      <td>3</td>\n",
       "      <td>2</td>\n",
       "      <td>0</td>\n",
       "      <td>12</td>\n",
       "      <td>0</td>\n",
       "      <td>6</td>\n",
       "      <td>6</td>\n",
       "      <td>6.0</td>\n",
       "      <td>0.0</td>\n",
       "      <td>...</td>\n",
       "      <td>20</td>\n",
       "      <td>0.0</td>\n",
       "      <td>0.0</td>\n",
       "      <td>0</td>\n",
       "      <td>0</td>\n",
       "      <td>0.0</td>\n",
       "      <td>0.0</td>\n",
       "      <td>0</td>\n",
       "      <td>0</td>\n",
       "      <td>BENIGN</td>\n",
       "    </tr>\n",
       "    <tr>\n",
       "      <th>1</th>\n",
       "      <td>55054</td>\n",
       "      <td>109</td>\n",
       "      <td>1</td>\n",
       "      <td>1</td>\n",
       "      <td>6</td>\n",
       "      <td>6</td>\n",
       "      <td>6</td>\n",
       "      <td>6</td>\n",
       "      <td>6.0</td>\n",
       "      <td>0.0</td>\n",
       "      <td>...</td>\n",
       "      <td>20</td>\n",
       "      <td>0.0</td>\n",
       "      <td>0.0</td>\n",
       "      <td>0</td>\n",
       "      <td>0</td>\n",
       "      <td>0.0</td>\n",
       "      <td>0.0</td>\n",
       "      <td>0</td>\n",
       "      <td>0</td>\n",
       "      <td>BENIGN</td>\n",
       "    </tr>\n",
       "    <tr>\n",
       "      <th>2</th>\n",
       "      <td>55055</td>\n",
       "      <td>52</td>\n",
       "      <td>1</td>\n",
       "      <td>1</td>\n",
       "      <td>6</td>\n",
       "      <td>6</td>\n",
       "      <td>6</td>\n",
       "      <td>6</td>\n",
       "      <td>6.0</td>\n",
       "      <td>0.0</td>\n",
       "      <td>...</td>\n",
       "      <td>20</td>\n",
       "      <td>0.0</td>\n",
       "      <td>0.0</td>\n",
       "      <td>0</td>\n",
       "      <td>0</td>\n",
       "      <td>0.0</td>\n",
       "      <td>0.0</td>\n",
       "      <td>0</td>\n",
       "      <td>0</td>\n",
       "      <td>BENIGN</td>\n",
       "    </tr>\n",
       "    <tr>\n",
       "      <th>3</th>\n",
       "      <td>46236</td>\n",
       "      <td>34</td>\n",
       "      <td>1</td>\n",
       "      <td>1</td>\n",
       "      <td>6</td>\n",
       "      <td>6</td>\n",
       "      <td>6</td>\n",
       "      <td>6</td>\n",
       "      <td>6.0</td>\n",
       "      <td>0.0</td>\n",
       "      <td>...</td>\n",
       "      <td>20</td>\n",
       "      <td>0.0</td>\n",
       "      <td>0.0</td>\n",
       "      <td>0</td>\n",
       "      <td>0</td>\n",
       "      <td>0.0</td>\n",
       "      <td>0.0</td>\n",
       "      <td>0</td>\n",
       "      <td>0</td>\n",
       "      <td>BENIGN</td>\n",
       "    </tr>\n",
       "    <tr>\n",
       "      <th>4</th>\n",
       "      <td>54863</td>\n",
       "      <td>3</td>\n",
       "      <td>2</td>\n",
       "      <td>0</td>\n",
       "      <td>12</td>\n",
       "      <td>0</td>\n",
       "      <td>6</td>\n",
       "      <td>6</td>\n",
       "      <td>6.0</td>\n",
       "      <td>0.0</td>\n",
       "      <td>...</td>\n",
       "      <td>20</td>\n",
       "      <td>0.0</td>\n",
       "      <td>0.0</td>\n",
       "      <td>0</td>\n",
       "      <td>0</td>\n",
       "      <td>0.0</td>\n",
       "      <td>0.0</td>\n",
       "      <td>0</td>\n",
       "      <td>0</td>\n",
       "      <td>BENIGN</td>\n",
       "    </tr>\n",
       "  </tbody>\n",
       "</table>\n",
       "<p>5 rows × 66 columns</p>\n",
       "</div>"
      ],
      "text/plain": [
       "   destination_port  flow_duration  total_fwd_packets  total_backward_packets  \\\n",
       "0             54865              3                  2                       0   \n",
       "1             55054            109                  1                       1   \n",
       "2             55055             52                  1                       1   \n",
       "3             46236             34                  1                       1   \n",
       "4             54863              3                  2                       0   \n",
       "\n",
       "   total_length_of_fwd_packets  total_length_of_bwd_packets  \\\n",
       "0                           12                            0   \n",
       "1                            6                            6   \n",
       "2                            6                            6   \n",
       "3                            6                            6   \n",
       "4                           12                            0   \n",
       "\n",
       "   fwd_packet_length_max  fwd_packet_length_min  fwd_packet_length_mean  \\\n",
       "0                      6                      6                     6.0   \n",
       "1                      6                      6                     6.0   \n",
       "2                      6                      6                     6.0   \n",
       "3                      6                      6                     6.0   \n",
       "4                      6                      6                     6.0   \n",
       "\n",
       "   fwd_packet_length_std  ...  min_seg_size_forward  active_mean  active_std  \\\n",
       "0                    0.0  ...                    20          0.0         0.0   \n",
       "1                    0.0  ...                    20          0.0         0.0   \n",
       "2                    0.0  ...                    20          0.0         0.0   \n",
       "3                    0.0  ...                    20          0.0         0.0   \n",
       "4                    0.0  ...                    20          0.0         0.0   \n",
       "\n",
       "   active_max  active_min  idle_mean  idle_std  idle_max  idle_min   label  \n",
       "0           0           0        0.0       0.0         0         0  BENIGN  \n",
       "1           0           0        0.0       0.0         0         0  BENIGN  \n",
       "2           0           0        0.0       0.0         0         0  BENIGN  \n",
       "3           0           0        0.0       0.0         0         0  BENIGN  \n",
       "4           0           0        0.0       0.0         0         0  BENIGN  \n",
       "\n",
       "[5 rows x 66 columns]"
      ]
     },
     "execution_count": 16,
     "metadata": {},
     "output_type": "execute_result"
    }
   ],
   "source": [
    "df.loc[df['label']!='BENIGN','label']='ATTACK'\n",
    "df.head()"
   ]
  },
  {
   "cell_type": "code",
   "execution_count": 17,
   "id": "35130961",
   "metadata": {
    "ExecuteTime": {
     "end_time": "2024-02-17T23:05:05.572075300Z",
     "start_time": "2024-02-17T23:05:05.552378100Z"
    },
    "execution": {
     "iopub.execute_input": "2024-02-14T13:59:49.102803Z",
     "iopub.status.busy": "2024-02-14T13:59:49.102433Z",
     "iopub.status.idle": "2024-02-14T13:59:49.478384Z",
     "shell.execute_reply": "2024-02-14T13:59:49.477545Z"
    },
    "papermill": {
     "duration": 0.401077,
     "end_time": "2024-02-14T13:59:49.480835",
     "exception": false,
     "start_time": "2024-02-14T13:59:49.079758",
     "status": "completed"
    },
    "tags": []
   },
   "outputs": [
    {
     "data": {
      "text/plain": [
       "label\n",
       "BENIGN    2095057\n",
       "ATTACK     425741\n",
       "Name: count, dtype: int64"
      ]
     },
     "execution_count": 17,
     "metadata": {},
     "output_type": "execute_result"
    }
   ],
   "source": [
    "df['label'].value_counts()"
   ]
  },
  {
   "cell_type": "code",
   "execution_count": 18,
   "id": "2d227b52",
   "metadata": {
    "ExecuteTime": {
     "end_time": "2024-02-17T23:05:05.955691200Z",
     "start_time": "2024-02-17T23:05:05.567049200Z"
    },
    "execution": {
     "iopub.execute_input": "2024-02-14T13:59:49.525340Z",
     "iopub.status.busy": "2024-02-14T13:59:49.525010Z",
     "iopub.status.idle": "2024-02-14T13:59:50.046575Z",
     "shell.execute_reply": "2024-02-14T13:59:50.045686Z"
    },
    "papermill": {
     "duration": 0.546165,
     "end_time": "2024-02-14T13:59:50.048913",
     "exception": false,
     "start_time": "2024-02-14T13:59:49.502748",
     "status": "completed"
    },
    "tags": []
   },
   "outputs": [],
   "source": [
    "new_df=df.copy()"
   ]
  },
  {
   "cell_type": "code",
   "execution_count": 19,
   "id": "4c83aeaa",
   "metadata": {
    "ExecuteTime": {
     "end_time": "2024-02-17T23:05:06.113057100Z",
     "start_time": "2024-02-17T23:05:05.955691200Z"
    },
    "execution": {
     "iopub.execute_input": "2024-02-14T13:59:50.093988Z",
     "iopub.status.busy": "2024-02-14T13:59:50.093651Z",
     "iopub.status.idle": "2024-02-14T13:59:50.548239Z",
     "shell.execute_reply": "2024-02-14T13:59:50.547283Z"
    },
    "papermill": {
     "duration": 0.47983,
     "end_time": "2024-02-14T13:59:50.550655",
     "exception": false,
     "start_time": "2024-02-14T13:59:50.070825",
     "status": "completed"
    },
    "tags": []
   },
   "outputs": [
    {
     "data": {
      "text/html": [
       "<div>\n",
       "<style scoped>\n",
       "    .dataframe tbody tr th:only-of-type {\n",
       "        vertical-align: middle;\n",
       "    }\n",
       "\n",
       "    .dataframe tbody tr th {\n",
       "        vertical-align: top;\n",
       "    }\n",
       "\n",
       "    .dataframe thead th {\n",
       "        text-align: right;\n",
       "    }\n",
       "</style>\n",
       "<table border=\"1\" class=\"dataframe\">\n",
       "  <thead>\n",
       "    <tr style=\"text-align: right;\">\n",
       "      <th></th>\n",
       "      <th>destination_port</th>\n",
       "      <th>flow_duration</th>\n",
       "      <th>total_fwd_packets</th>\n",
       "      <th>total_backward_packets</th>\n",
       "      <th>total_length_of_fwd_packets</th>\n",
       "      <th>total_length_of_bwd_packets</th>\n",
       "      <th>fwd_packet_length_max</th>\n",
       "      <th>fwd_packet_length_min</th>\n",
       "      <th>fwd_packet_length_mean</th>\n",
       "      <th>fwd_packet_length_std</th>\n",
       "      <th>...</th>\n",
       "      <th>min_seg_size_forward</th>\n",
       "      <th>active_mean</th>\n",
       "      <th>active_std</th>\n",
       "      <th>active_max</th>\n",
       "      <th>active_min</th>\n",
       "      <th>idle_mean</th>\n",
       "      <th>idle_std</th>\n",
       "      <th>idle_max</th>\n",
       "      <th>idle_min</th>\n",
       "      <th>label</th>\n",
       "    </tr>\n",
       "  </thead>\n",
       "  <tbody>\n",
       "    <tr>\n",
       "      <th>0</th>\n",
       "      <td>54865</td>\n",
       "      <td>3</td>\n",
       "      <td>2</td>\n",
       "      <td>0</td>\n",
       "      <td>12</td>\n",
       "      <td>0</td>\n",
       "      <td>6</td>\n",
       "      <td>6</td>\n",
       "      <td>6.0</td>\n",
       "      <td>0.0</td>\n",
       "      <td>...</td>\n",
       "      <td>20</td>\n",
       "      <td>0.0</td>\n",
       "      <td>0.0</td>\n",
       "      <td>0</td>\n",
       "      <td>0</td>\n",
       "      <td>0.0</td>\n",
       "      <td>0.0</td>\n",
       "      <td>0</td>\n",
       "      <td>0</td>\n",
       "      <td>BENIGN</td>\n",
       "    </tr>\n",
       "    <tr>\n",
       "      <th>1</th>\n",
       "      <td>55054</td>\n",
       "      <td>109</td>\n",
       "      <td>1</td>\n",
       "      <td>1</td>\n",
       "      <td>6</td>\n",
       "      <td>6</td>\n",
       "      <td>6</td>\n",
       "      <td>6</td>\n",
       "      <td>6.0</td>\n",
       "      <td>0.0</td>\n",
       "      <td>...</td>\n",
       "      <td>20</td>\n",
       "      <td>0.0</td>\n",
       "      <td>0.0</td>\n",
       "      <td>0</td>\n",
       "      <td>0</td>\n",
       "      <td>0.0</td>\n",
       "      <td>0.0</td>\n",
       "      <td>0</td>\n",
       "      <td>0</td>\n",
       "      <td>BENIGN</td>\n",
       "    </tr>\n",
       "    <tr>\n",
       "      <th>2</th>\n",
       "      <td>55055</td>\n",
       "      <td>52</td>\n",
       "      <td>1</td>\n",
       "      <td>1</td>\n",
       "      <td>6</td>\n",
       "      <td>6</td>\n",
       "      <td>6</td>\n",
       "      <td>6</td>\n",
       "      <td>6.0</td>\n",
       "      <td>0.0</td>\n",
       "      <td>...</td>\n",
       "      <td>20</td>\n",
       "      <td>0.0</td>\n",
       "      <td>0.0</td>\n",
       "      <td>0</td>\n",
       "      <td>0</td>\n",
       "      <td>0.0</td>\n",
       "      <td>0.0</td>\n",
       "      <td>0</td>\n",
       "      <td>0</td>\n",
       "      <td>BENIGN</td>\n",
       "    </tr>\n",
       "    <tr>\n",
       "      <th>3</th>\n",
       "      <td>46236</td>\n",
       "      <td>34</td>\n",
       "      <td>1</td>\n",
       "      <td>1</td>\n",
       "      <td>6</td>\n",
       "      <td>6</td>\n",
       "      <td>6</td>\n",
       "      <td>6</td>\n",
       "      <td>6.0</td>\n",
       "      <td>0.0</td>\n",
       "      <td>...</td>\n",
       "      <td>20</td>\n",
       "      <td>0.0</td>\n",
       "      <td>0.0</td>\n",
       "      <td>0</td>\n",
       "      <td>0</td>\n",
       "      <td>0.0</td>\n",
       "      <td>0.0</td>\n",
       "      <td>0</td>\n",
       "      <td>0</td>\n",
       "      <td>BENIGN</td>\n",
       "    </tr>\n",
       "    <tr>\n",
       "      <th>4</th>\n",
       "      <td>54863</td>\n",
       "      <td>3</td>\n",
       "      <td>2</td>\n",
       "      <td>0</td>\n",
       "      <td>12</td>\n",
       "      <td>0</td>\n",
       "      <td>6</td>\n",
       "      <td>6</td>\n",
       "      <td>6.0</td>\n",
       "      <td>0.0</td>\n",
       "      <td>...</td>\n",
       "      <td>20</td>\n",
       "      <td>0.0</td>\n",
       "      <td>0.0</td>\n",
       "      <td>0</td>\n",
       "      <td>0</td>\n",
       "      <td>0.0</td>\n",
       "      <td>0.0</td>\n",
       "      <td>0</td>\n",
       "      <td>0</td>\n",
       "      <td>BENIGN</td>\n",
       "    </tr>\n",
       "  </tbody>\n",
       "</table>\n",
       "<p>5 rows × 66 columns</p>\n",
       "</div>"
      ],
      "text/plain": [
       "   destination_port  flow_duration  total_fwd_packets  total_backward_packets  \\\n",
       "0             54865              3                  2                       0   \n",
       "1             55054            109                  1                       1   \n",
       "2             55055             52                  1                       1   \n",
       "3             46236             34                  1                       1   \n",
       "4             54863              3                  2                       0   \n",
       "\n",
       "   total_length_of_fwd_packets  total_length_of_bwd_packets  \\\n",
       "0                           12                            0   \n",
       "1                            6                            6   \n",
       "2                            6                            6   \n",
       "3                            6                            6   \n",
       "4                           12                            0   \n",
       "\n",
       "   fwd_packet_length_max  fwd_packet_length_min  fwd_packet_length_mean  \\\n",
       "0                      6                      6                     6.0   \n",
       "1                      6                      6                     6.0   \n",
       "2                      6                      6                     6.0   \n",
       "3                      6                      6                     6.0   \n",
       "4                      6                      6                     6.0   \n",
       "\n",
       "   fwd_packet_length_std  ...  min_seg_size_forward  active_mean  active_std  \\\n",
       "0                    0.0  ...                    20          0.0         0.0   \n",
       "1                    0.0  ...                    20          0.0         0.0   \n",
       "2                    0.0  ...                    20          0.0         0.0   \n",
       "3                    0.0  ...                    20          0.0         0.0   \n",
       "4                    0.0  ...                    20          0.0         0.0   \n",
       "\n",
       "   active_max  active_min  idle_mean  idle_std  idle_max  idle_min   label  \n",
       "0           0           0        0.0       0.0         0         0  BENIGN  \n",
       "1           0           0        0.0       0.0         0         0  BENIGN  \n",
       "2           0           0        0.0       0.0         0         0  BENIGN  \n",
       "3           0           0        0.0       0.0         0         0  BENIGN  \n",
       "4           0           0        0.0       0.0         0         0  BENIGN  \n",
       "\n",
       "[5 rows x 66 columns]"
      ]
     },
     "execution_count": 19,
     "metadata": {},
     "output_type": "execute_result"
    }
   ],
   "source": [
    "df.loc[df['label']!='BENIGN','label']='ATTACK'\n",
    "df.head()"
   ]
  },
  {
   "cell_type": "code",
   "execution_count": 20,
   "id": "2e02025c",
   "metadata": {
    "ExecuteTime": {
     "end_time": "2024-02-17T23:05:06.251669100Z",
     "start_time": "2024-02-17T23:05:06.224600400Z"
    },
    "execution": {
     "iopub.execute_input": "2024-02-14T13:59:50.596637Z",
     "iopub.status.busy": "2024-02-14T13:59:50.596259Z",
     "iopub.status.idle": "2024-02-14T13:59:50.973396Z",
     "shell.execute_reply": "2024-02-14T13:59:50.972371Z"
    },
    "papermill": {
     "duration": 0.402614,
     "end_time": "2024-02-14T13:59:50.975757",
     "exception": false,
     "start_time": "2024-02-14T13:59:50.573143",
     "status": "completed"
    },
    "tags": []
   },
   "outputs": [
    {
     "data": {
      "text/plain": [
       "label\n",
       "BENIGN    2095057\n",
       "ATTACK     425741\n",
       "Name: count, dtype: int64"
      ]
     },
     "execution_count": 20,
     "metadata": {},
     "output_type": "execute_result"
    }
   ],
   "source": [
    "df.label.value_counts()"
   ]
  },
  {
   "cell_type": "code",
   "execution_count": 21,
   "id": "cea9c911",
   "metadata": {
    "ExecuteTime": {
     "end_time": "2024-02-17T23:05:07.436080800Z",
     "start_time": "2024-02-17T23:05:06.240524600Z"
    },
    "execution": {
     "iopub.execute_input": "2024-02-14T13:59:51.022712Z",
     "iopub.status.busy": "2024-02-14T13:59:51.022359Z",
     "iopub.status.idle": "2024-02-14T13:59:54.472170Z",
     "shell.execute_reply": "2024-02-14T13:59:54.471252Z"
    },
    "papermill": {
     "duration": 3.474964,
     "end_time": "2024-02-14T13:59:54.474193",
     "exception": false,
     "start_time": "2024-02-14T13:59:50.999229",
     "status": "completed"
    },
    "tags": []
   },
   "outputs": [
    {
     "data": {
      "text/plain": [
       "<Axes: xlabel='label', ylabel='count'>"
      ]
     },
     "execution_count": 21,
     "metadata": {},
     "output_type": "execute_result"
    },
    {
     "data": {
      "image/png": "[encoded data removed]",
      "text/plain": [
       "<Figure size 640x480 with 1 Axes>"
      ]
     },
     "metadata": {},
     "output_type": "display_data"
    }
   ],
   "source": [
    "sns.countplot(data=df,x=df['label'])"
   ]
  },
  {
   "cell_type": "code",
   "execution_count": 22,
   "id": "5cbed989",
   "metadata": {
    "ExecuteTime": {
     "end_time": "2024-02-17T23:05:09.358377400Z",
     "start_time": "2024-02-17T23:05:07.544296400Z"
    },
    "execution": {
     "iopub.execute_input": "2024-02-14T13:59:54.565214Z",
     "iopub.status.busy": "2024-02-14T13:59:54.564417Z",
     "iopub.status.idle": "2024-02-14T13:59:56.877060Z",
     "shell.execute_reply": "2024-02-14T13:59:56.876152Z"
    },
    "papermill": {
     "duration": 2.382512,
     "end_time": "2024-02-14T13:59:56.879195",
     "exception": false,
     "start_time": "2024-02-14T13:59:54.496683",
     "status": "completed"
    },
    "tags": []
   },
   "outputs": [
    {
     "name": "stdout",
     "output_type": "stream",
     "text": [
      "425741\n"
     ]
    }
   ],
   "source": [
    "size=len(df.loc[df.label=='ATTACK'])\n",
    "print(size)\n",
    "bal_df=df.groupby('label').apply(lambda x: x.sample(n=min(size,len(x))))"
   ]
  },
  {
   "cell_type": "code",
   "execution_count": 23,
   "id": "c6d8e702",
   "metadata": {
    "ExecuteTime": {
     "end_time": "2024-02-17T23:05:09.768265200Z",
     "start_time": "2024-02-17T23:05:09.387312Z"
    },
    "execution": {
     "iopub.execute_input": "2024-02-14T13:59:56.925683Z",
     "iopub.status.busy": "2024-02-14T13:59:56.925263Z",
     "iopub.status.idle": "2024-02-14T13:59:57.931016Z",
     "shell.execute_reply": "2024-02-14T13:59:57.930131Z"
    },
    "papermill": {
     "duration": 1.031114,
     "end_time": "2024-02-14T13:59:57.933052",
     "exception": false,
     "start_time": "2024-02-14T13:59:56.901938",
     "status": "completed"
    },
    "tags": []
   },
   "outputs": [
    {
     "data": {
      "text/plain": [
       "<Axes: xlabel='label', ylabel='count'>"
      ]
     },
     "execution_count": 23,
     "metadata": {},
     "output_type": "execute_result"
    },
    {
     "data": {
      "image/png": "[encoded data removed]",
      "text/plain": [
       "<Figure size 640x480 with 1 Axes>"
      ]
     },
     "metadata": {},
     "output_type": "display_data"
    }
   ],
   "source": [
    "sns.countplot(data=bal_df,x='label')"
   ]
  },
  {
   "cell_type": "code",
   "execution_count": 24,
   "id": "c7a82b19",
   "metadata": {
    "ExecuteTime": {
     "end_time": "2024-02-17T23:05:09.782392Z",
     "start_time": "2024-02-17T23:05:09.764983700Z"
    },
    "execution": {
     "iopub.execute_input": "2024-02-14T13:59:57.981058Z",
     "iopub.status.busy": "2024-02-14T13:59:57.980432Z",
     "iopub.status.idle": "2024-02-14T13:59:57.986253Z",
     "shell.execute_reply": "2024-02-14T13:59:57.985428Z"
    },
    "papermill": {
     "duration": 0.031979,
     "end_time": "2024-02-14T13:59:57.988147",
     "exception": false,
     "start_time": "2024-02-14T13:59:57.956168",
     "status": "completed"
    },
    "tags": []
   },
   "outputs": [
    {
     "data": {
      "text/plain": [
       "(851482, 66)"
      ]
     },
     "execution_count": 24,
     "metadata": {},
     "output_type": "execute_result"
    }
   ],
   "source": [
    "bal_df.shape"
   ]
  },
  {
   "cell_type": "code",
   "execution_count": 25,
   "id": "dca2b8a3",
   "metadata": {
    "ExecuteTime": {
     "end_time": "2024-02-17T23:05:09.873182400Z",
     "start_time": "2024-02-17T23:05:09.779726300Z"
    },
    "execution": {
     "iopub.execute_input": "2024-02-14T13:59:58.036257Z",
     "iopub.status.busy": "2024-02-14T13:59:58.035538Z",
     "iopub.status.idle": "2024-02-14T13:59:58.124950Z",
     "shell.execute_reply": "2024-02-14T13:59:58.124109Z"
    },
    "papermill": {
     "duration": 0.115869,
     "end_time": "2024-02-14T13:59:58.126950",
     "exception": false,
     "start_time": "2024-02-14T13:59:58.011081",
     "status": "completed"
    },
    "tags": []
   },
   "outputs": [
    {
     "data": {
      "text/plain": [
       "7069"
      ]
     },
     "execution_count": 25,
     "metadata": {},
     "output_type": "execute_result"
    }
   ],
   "source": [
    "import gc\n",
    "gc.collect()"
   ]
  },
  {
   "cell_type": "code",
   "execution_count": 26,
   "id": "6cfecc3b",
   "metadata": {
    "ExecuteTime": {
     "end_time": "2024-02-17T23:05:09.965885400Z",
     "start_time": "2024-02-17T23:05:09.874202500Z"
    },
    "execution": {
     "iopub.execute_input": "2024-02-14T13:59:58.177169Z",
     "iopub.status.busy": "2024-02-14T13:59:58.176393Z",
     "iopub.status.idle": "2024-02-14T13:59:58.455019Z",
     "shell.execute_reply": "2024-02-14T13:59:58.454104Z"
    },
    "papermill": {
     "duration": 0.306759,
     "end_time": "2024-02-14T13:59:58.457235",
     "exception": false,
     "start_time": "2024-02-14T13:59:58.150476",
     "status": "completed"
    },
    "tags": []
   },
   "outputs": [],
   "source": [
    "bal_df.loc[bal_df['label']== 'ATTACK','label']=1\n",
    "bal_df.loc[bal_df['label']=='BENIGN','label']=0"
   ]
  },
  {
   "cell_type": "code",
   "execution_count": 27,
   "id": "c45c1525",
   "metadata": {
    "ExecuteTime": {
     "end_time": "2024-02-17T23:05:09.987173Z",
     "start_time": "2024-02-17T23:05:09.968104600Z"
    },
    "execution": {
     "iopub.execute_input": "2024-02-14T13:59:58.505855Z",
     "iopub.status.busy": "2024-02-14T13:59:58.505065Z",
     "iopub.status.idle": "2024-02-14T13:59:58.510996Z",
     "shell.execute_reply": "2024-02-14T13:59:58.510169Z"
    },
    "papermill": {
     "duration": 0.032033,
     "end_time": "2024-02-14T13:59:58.512926",
     "exception": false,
     "start_time": "2024-02-14T13:59:58.480893",
     "status": "completed"
    },
    "tags": []
   },
   "outputs": [
    {
     "data": {
      "text/plain": [
       "pandas.core.series.Series"
      ]
     },
     "execution_count": 27,
     "metadata": {},
     "output_type": "execute_result"
    }
   ],
   "source": [
    "type(bal_df.label)"
   ]
  },
  {
   "cell_type": "code",
   "execution_count": 28,
   "id": "128d3cb8",
   "metadata": {
    "ExecuteTime": {
     "end_time": "2024-02-17T23:05:10.793452300Z",
     "start_time": "2024-02-17T23:05:09.991029Z"
    },
    "execution": {
     "iopub.execute_input": "2024-02-14T13:59:58.561044Z",
     "iopub.status.busy": "2024-02-14T13:59:58.560735Z",
     "iopub.status.idle": "2024-02-14T13:59:59.426252Z",
     "shell.execute_reply": "2024-02-14T13:59:59.425221Z"
    },
    "papermill": {
     "duration": 0.892386,
     "end_time": "2024-02-14T13:59:59.428745",
     "exception": false,
     "start_time": "2024-02-14T13:59:58.536359",
     "status": "completed"
    },
    "tags": []
   },
   "outputs": [],
   "source": [
    "from sklearn.model_selection import train_test_split\n",
    "from sklearn.preprocessing import MinMaxScaler\n",
    "X=bal_df.drop(columns='label')\n",
    "y=bal_df['label'].astype('int')\n",
    "X=MinMaxScaler().fit_transform(X)"
   ]
  },
  {
   "cell_type": "code",
   "execution_count": 29,
   "id": "f202a193",
   "metadata": {
    "ExecuteTime": {
     "end_time": "2024-02-17T23:05:11.803756200Z",
     "start_time": "2024-02-17T23:05:10.796833800Z"
    },
    "execution": {
     "iopub.execute_input": "2024-02-14T13:59:59.478643Z",
     "iopub.status.busy": "2024-02-14T13:59:59.477805Z",
     "iopub.status.idle": "2024-02-14T14:00:00.192493Z",
     "shell.execute_reply": "2024-02-14T14:00:00.191549Z"
    },
    "papermill": {
     "duration": 0.741661,
     "end_time": "2024-02-14T14:00:00.194597",
     "exception": false,
     "start_time": "2024-02-14T13:59:59.452936",
     "status": "completed"
    },
    "tags": []
   },
   "outputs": [
    {
     "name": "stdout",
     "output_type": "stream",
     "text": [
      "(681185, 65)   (170297, 65)\n",
      "(681185,)   (170297,)\n"
     ]
    }
   ],
   "source": [
    "X_train,X_test,y_train,y_test=train_test_split(X,y,test_size=0.2)\n",
    "print(X_train.shape,\" \",X_test.shape)\n",
    "print(y_train.shape,\" \",y_test.shape)"
   ]
  },
  {
   "cell_type": "code",
   "execution_count": 30,
   "id": "37b8a139",
   "metadata": {
    "ExecuteTime": {
     "end_time": "2024-02-17T23:05:17.950844800Z",
     "start_time": "2024-02-17T23:05:11.807851400Z"
    },
    "execution": {
     "iopub.execute_input": "2024-02-14T14:00:00.243833Z",
     "iopub.status.busy": "2024-02-14T14:00:00.243542Z",
     "iopub.status.idle": "2024-02-14T14:00:05.373210Z",
     "shell.execute_reply": "2024-02-14T14:00:05.372173Z"
    },
    "papermill": {
     "duration": 5.157098,
     "end_time": "2024-02-14T14:00:05.375688",
     "exception": false,
     "start_time": "2024-02-14T14:00:00.218590",
     "status": "completed"
    },
    "tags": []
   },
   "outputs": [],
   "source": [
    "from sklearn.model_selection import train_test_split\n",
    "from sklearn.preprocessing import MinMaxScaler,LabelEncoder\n",
    "Xn=new_df.drop(columns='label')\n",
    "Xn=MinMaxScaler().fit_transform(Xn)\n",
    "yn=new_df['label']\n",
    "yn=LabelEncoder().fit_transform(yn)\n",
    "Xn_train,Xn_test,yn_train,yn_test=train_test_split(Xn,yn,test_size=0.2)"
   ]
  },
  {
   "cell_type": "code",
   "execution_count": 31,
   "id": "ecc6789a",
   "metadata": {
    "ExecuteTime": {
     "end_time": "2024-02-17T23:05:17.964873500Z",
     "start_time": "2024-02-17T23:05:17.952964200Z"
    },
    "execution": {
     "iopub.execute_input": "2024-02-14T14:00:05.426898Z",
     "iopub.status.busy": "2024-02-14T14:00:05.426151Z",
     "iopub.status.idle": "2024-02-14T14:00:05.431150Z",
     "shell.execute_reply": "2024-02-14T14:00:05.430273Z"
    },
    "papermill": {
     "duration": 0.033799,
     "end_time": "2024-02-14T14:00:05.433677",
     "exception": false,
     "start_time": "2024-02-14T14:00:05.399878",
     "status": "completed"
    },
    "tags": []
   },
   "outputs": [
    {
     "name": "stdout",
     "output_type": "stream",
     "text": [
      "(504160, 65) (2016638, 65)\n",
      "(504160,) (2016638,)\n"
     ]
    }
   ],
   "source": [
    "print(Xn_test.shape,Xn_train.shape)\n",
    "print(yn_test.shape,yn_train.shape)"
   ]
  },
  {
   "cell_type": "code",
   "execution_count": 32,
   "id": "4b97918e",
   "metadata": {
    "ExecuteTime": {
     "end_time": "2024-02-17T23:05:19.069083Z",
     "start_time": "2024-02-17T23:05:17.965964700Z"
    },
    "execution": {
     "iopub.execute_input": "2024-02-14T14:00:05.481733Z",
     "iopub.status.busy": "2024-02-14T14:00:05.481395Z",
     "iopub.status.idle": "2024-02-14T14:00:06.196092Z",
     "shell.execute_reply": "2024-02-14T14:00:06.195008Z"
    },
    "papermill": {
     "duration": 0.741008,
     "end_time": "2024-02-14T14:00:06.198182",
     "exception": false,
     "start_time": "2024-02-14T14:00:05.457174",
     "status": "completed"
    },
    "tags": []
   },
   "outputs": [
    {
     "name": "stdout",
     "output_type": "stream",
     "text": [
      "(681185, 65)   (170297, 65)\n",
      "(681185,)   (170297,)\n"
     ]
    }
   ],
   "source": [
    "X_train,X_test,y_train,y_test=train_test_split(X,y,test_size=0.2)\n",
    "print(X_train.shape,\" \",X_test.shape)\n",
    "print(y_train.shape,\" \",y_test.shape)"
   ]
  },
  {
   "cell_type": "code",
   "execution_count": 33,
   "id": "a26b3cd4",
   "metadata": {
    "ExecuteTime": {
     "end_time": "2024-02-17T23:05:24.223311700Z",
     "start_time": "2024-02-17T23:05:19.075370Z"
    },
    "execution": {
     "iopub.execute_input": "2024-02-14T14:00:06.247018Z",
     "iopub.status.busy": "2024-02-14T14:00:06.246692Z",
     "iopub.status.idle": "2024-02-14T14:00:19.608594Z",
     "shell.execute_reply": "2024-02-14T14:00:19.607643Z"
    },
    "papermill": {
     "duration": 13.389002,
     "end_time": "2024-02-14T14:00:19.611030",
     "exception": false,
     "start_time": "2024-02-14T14:00:06.222028",
     "status": "completed"
    },
    "tags": []
   },
   "outputs": [
    {
     "name": "stdout",
     "output_type": "stream",
     "text": [
      "You must install pydot (`pip install pydot`) and install graphviz (see instructions at https://graphviz.gitlab.io/download/) for plot_model to work.\n"
     ]
    }
   ],
   "source": [
    "from keras.layers import Input, Dense\n",
    "from keras.models import Model\n",
    "from tensorflow.keras.utils import plot_model\n",
    "\n",
    "input_data = Input(shape=(65,))\n",
    "encoded = Dense(32, activation='relu')(input_data)\n",
    "decoded = Dense(65, activation='sigmoid')(encoded)\n",
    "\n",
    "autoencoder = Model(input_data, decoded)\n",
    "autoencoder.compile(optimizer='adadelta', loss='binary_crossentropy')\n",
    "plot_model(autoencoder, show_shapes=True)\n",
    "\n",
    "encoder = Model(input_data, encoded)\n",
    "encoded_input = Input(shape=(32,))\n",
    "decoder_layer = autoencoder.layers[-1]\n",
    "decoder = Model(encoded_input, decoder_layer(encoded_input))\n"
   ]
  },
  {
   "cell_type": "code",
   "execution_count": null,
   "id": "65f73d63",
   "metadata": {
    "ExecuteTime": {
     "start_time": "2024-02-17T23:05:24.229213600Z"
    },
    "execution": {
     "iopub.execute_input": "2024-02-14T14:00:19.660940Z",
     "iopub.status.busy": "2024-02-14T14:00:19.660214Z",
     "iopub.status.idle": "2024-02-14T15:07:52.662008Z",
     "shell.execute_reply": "2024-02-14T15:07:52.661130Z"
    },
    "is_executing": true,
    "papermill": {
     "duration": 4053.028991,
     "end_time": "2024-02-14T15:07:52.664259",
     "exception": false,
     "start_time": "2024-02-14T14:00:19.635268",
     "status": "completed"
    },
    "tags": []
   },
   "outputs": [
    {
     "name": "stdout",
     "output_type": "stream",
     "text": [
      "Epoch 1/50\n",
      "31510/31510 [==============================] - 48s 1ms/step - loss: 0.6334 - val_loss: 0.5418\n",
      "Epoch 2/50\n",
      "31510/31510 [==============================] - 51s 2ms/step - loss: 0.4037 - val_loss: 0.2873\n",
      "Epoch 3/50\n",
      "31510/31510 [==============================] - 53s 2ms/step - loss: 0.2160 - val_loss: 0.2196\n",
      "Epoch 4/50\n",
      "15503/31510 [=============>................] - ETA: 24s - loss: 0.1744"
     ]
    }
   ],
   "source": [
    "history=autoencoder.fit(Xn_train,Xn_train,epochs=50,batch_size=64,validation_data=(X_test,X_test),verbose=1)\n",
    "encoded_data=encoder.predict(X_test)\n",
    "decoded_data=decoder.predict(encoded_data)"
   ]
  },
  {
   "cell_type": "code",
   "execution_count": null,
   "id": "0eaea4cc",
   "metadata": {
    "execution": {
     "iopub.execute_input": "2024-02-14T15:08:05.282972Z",
     "iopub.status.busy": "2024-02-14T15:08:05.282619Z",
     "iopub.status.idle": "2024-02-14T15:08:05.453031Z",
     "shell.execute_reply": "2024-02-14T15:08:05.452159Z"
    },
    "is_executing": true,
    "papermill": {
     "duration": 6.621519,
     "end_time": "2024-02-14T15:08:05.454959",
     "exception": false,
     "start_time": "2024-02-14T15:07:58.833440",
     "status": "completed"
    },
    "tags": []
   },
   "outputs": [],
   "source": [
    "plt.plot(history.history['loss'],label='train')\n",
    "plt.plot(history.history['val_loss'],label='test')\n",
    "plt.legend()\n",
    "plt.show()"
   ]
  },
  {
   "cell_type": "code",
   "execution_count": null,
   "id": "67803564",
   "metadata": {
    "execution": {
     "iopub.execute_input": "2024-02-14T15:08:17.999268Z",
     "iopub.status.busy": "2024-02-14T15:08:17.998443Z",
     "iopub.status.idle": "2024-02-14T15:08:18.309682Z",
     "shell.execute_reply": "2024-02-14T15:08:18.308838Z"
    },
    "is_executing": true,
    "papermill": {
     "duration": 6.667567,
     "end_time": "2024-02-14T15:08:18.312003",
     "exception": false,
     "start_time": "2024-02-14T15:08:11.644436",
     "status": "completed"
    },
    "tags": []
   },
   "outputs": [],
   "source": [
    "import seaborn as sns \n",
    "import sklearn \n",
    "import imblearn \n",
    "import time \n",
    "import sklearn.metrics as m \n",
    "from keras.layers import BatchNormalization\n",
    "from keras.layers import Activation\n",
    "from keras import Input\n",
    "from keras.optimizers import Adam\n",
    "import tensorflow as tf\n",
    "tf.keras.backend.clear_session()\n",
    "import random\n",
    "\n"
   ]
  },
  {
   "cell_type": "code",
   "execution_count": null,
   "id": "012be4a1",
   "metadata": {
    "execution": {
     "iopub.execute_input": "2024-02-14T15:08:30.783183Z",
     "iopub.status.busy": "2024-02-14T15:08:30.782112Z",
     "iopub.status.idle": "2024-02-14T15:08:30.787120Z",
     "shell.execute_reply": "2024-02-14T15:08:30.786262Z"
    },
    "is_executing": true,
    "papermill": {
     "duration": 6.241993,
     "end_time": "2024-02-14T15:08:30.788976",
     "exception": false,
     "start_time": "2024-02-14T15:08:24.546983",
     "status": "completed"
    },
    "tags": []
   },
   "outputs": [],
   "source": [
    "import warnings \n",
    "warnings.filterwarnings('ignore')"
   ]
  },
  {
   "cell_type": "code",
   "execution_count": null,
   "id": "de1fa2e6",
   "metadata": {
    "execution": {
     "iopub.execute_input": "2024-02-14T15:08:43.471885Z",
     "iopub.status.busy": "2024-02-14T15:08:43.471538Z",
     "iopub.status.idle": "2024-02-14T15:08:43.476061Z",
     "shell.execute_reply": "2024-02-14T15:08:43.475161Z"
    },
    "is_executing": true,
    "papermill": {
     "duration": 6.368169,
     "end_time": "2024-02-14T15:08:43.478137",
     "exception": false,
     "start_time": "2024-02-14T15:08:37.109968",
     "status": "completed"
    },
    "tags": []
   },
   "outputs": [],
   "source": [
    "latent_dim = 50 \n",
    "hidden_layer_size = 80\n",
    "batch_size = 50\n",
    "convergence_threshold = 0.058\n",
    "max_epochs= 10"
   ]
  },
  {
   "cell_type": "code",
   "execution_count": null,
   "id": "f97b336e",
   "metadata": {
    "execution": {
     "iopub.execute_input": "2024-02-14T15:08:56.353323Z",
     "iopub.status.busy": "2024-02-14T15:08:56.352507Z",
     "iopub.status.idle": "2024-02-14T15:08:56.358347Z",
     "shell.execute_reply": "2024-02-14T15:08:56.357520Z"
    },
    "is_executing": true,
    "papermill": {
     "duration": 6.733746,
     "end_time": "2024-02-14T15:08:56.360146",
     "exception": false,
     "start_time": "2024-02-14T15:08:49.626400",
     "status": "completed"
    },
    "tags": []
   },
   "outputs": [],
   "source": [
    "def build_generator(latent_dim, hidden_layer_size):\n",
    "    generator_input = Input(shape=(latent_dim,))\n",
    "    \n",
    "    # Add batch normalization and ReLU activation to the hidden layer\n",
    "    x = Dense(hidden_layer_size)(generator_input)\n",
    "    x = BatchNormalization()(x)\n",
    "    x = Activation('relu')(x)\n",
    "    \n",
    "    # Output layer with appropriate size\n",
    "    generator_output = Dense(input_shape[0])(x)\n",
    "    \n",
    "    generator = Model(generator_input, generator_output)\n",
    "    return generator"
   ]
  },
  {
   "cell_type": "code",
   "execution_count": null,
   "id": "b203c4bb",
   "metadata": {
    "execution": {
     "iopub.execute_input": "2024-02-14T15:09:08.928322Z",
     "iopub.status.busy": "2024-02-14T15:09:08.927966Z",
     "iopub.status.idle": "2024-02-14T15:09:08.933526Z",
     "shell.execute_reply": "2024-02-14T15:09:08.932690Z"
    },
    "is_executing": true,
    "papermill": {
     "duration": 6.294343,
     "end_time": "2024-02-14T15:09:08.935454",
     "exception": false,
     "start_time": "2024-02-14T15:09:02.641111",
     "status": "completed"
    },
    "tags": []
   },
   "outputs": [],
   "source": [
    "def build_discriminator(input_shape, hidden_layer_size):\n",
    "    discriminator_input = Input(shape=input_shape)\n",
    "    \n",
    "    # Add batch normalization and ReLU activation to the hidden layer\n",
    "    x = Dense(hidden_layer_size)(discriminator_input)\n",
    "    x = BatchNormalization()(x)\n",
    "    x = Activation('relu')(x)\n",
    "    \n",
    "    # Output layer with appropriate size\n",
    "    discriminator_output = Dense(input_shape[0])(x)\n",
    "    \n",
    "    discriminator = Model(discriminator_input, discriminator_output)\n",
    "    return discriminator"
   ]
  },
  {
   "cell_type": "code",
   "execution_count": null,
   "id": "864fe1b2",
   "metadata": {
    "execution": {
     "iopub.execute_input": "2024-02-14T15:09:21.780188Z",
     "iopub.status.busy": "2024-02-14T15:09:21.779709Z",
     "iopub.status.idle": "2024-02-14T15:09:21.947233Z",
     "shell.execute_reply": "2024-02-14T15:09:21.946118Z"
    },
    "is_executing": true,
    "papermill": {
     "duration": 6.639886,
     "end_time": "2024-02-14T15:09:21.950422",
     "exception": false,
     "start_time": "2024-02-14T15:09:15.310536",
     "status": "completed"
    },
    "tags": []
   },
   "outputs": [],
   "source": [
    "# Define input shape\n",
    "input_shape = (28, 28, 1)  # Example shape, adjust according to your data\n",
    "\n",
    "# Define latent dimension and hidden layer size\n",
    "latent_dim = 100\n",
    "hidden_layer_size = 128\n",
    "\n",
    "# Build generator and discriminator\n",
    "generator = build_generator(latent_dim, hidden_layer_size)\n",
    "discriminator = build_discriminator(input_shape, hidden_layer_size)\n",
    "\n",
    "# Compile the discriminator model\n",
    "# Your code for compiling the discriminator model goes here\n",
    "def build_generator(latent_dim, hidden_layer_size, input_shape):\n",
    "    generator_input = Input(shape=(latent_dim,))\n",
    "    \n",
    "    # Add batch normalization and ReLU activation to the hidden layer\n",
    "    x = Dense(hidden_layer_size)(generator_input)\n",
    "    x = BatchNormalization()(x)\n",
    "    x = Activation('relu')(x)\n",
    "    \n",
    "    # Output layer with appropriate size\n",
    "    generator_output = Dense(input_shape[0])(x)\n",
    "    \n",
    "    generator = Model(generator_input, generator_output)\n",
    "    return generator\n"
   ]
  },
  {
   "cell_type": "code",
   "execution_count": null,
   "id": "d015bf90",
   "metadata": {
    "execution": {
     "iopub.execute_input": "2024-02-14T15:09:34.690049Z",
     "iopub.status.busy": "2024-02-14T15:09:34.688955Z",
     "iopub.status.idle": "2024-02-14T15:09:34.825111Z",
     "shell.execute_reply": "2024-02-14T15:09:34.824082Z"
    },
    "is_executing": true,
    "papermill": {
     "duration": 6.373594,
     "end_time": "2024-02-14T15:09:34.827587",
     "exception": false,
     "start_time": "2024-02-14T15:09:28.453993",
     "status": "completed"
    },
    "tags": []
   },
   "outputs": [],
   "source": [
    "generator = build_generator(latent_dim, hidden_layer_size, input_shape)\n",
    "discriminator = build_discriminator(input_shape, hidden_layer_size)\n",
    "\n",
    "# Compile the discriminator model\n",
    "discriminator.compile(loss='mean_squared_error', optimizer=Adam(learning_rate=0.0002))"
   ]
  },
  {
   "cell_type": "code",
   "execution_count": null,
   "id": "160b1336",
   "metadata": {
    "execution": {
     "iopub.execute_input": "2024-02-14T15:09:47.469863Z",
     "iopub.status.busy": "2024-02-14T15:09:47.468882Z",
     "iopub.status.idle": "2024-02-14T15:09:47.473953Z",
     "shell.execute_reply": "2024-02-14T15:09:47.473052Z"
    },
    "is_executing": true,
    "papermill": {
     "duration": 6.21621,
     "end_time": "2024-02-14T15:09:47.475884",
     "exception": false,
     "start_time": "2024-02-14T15:09:41.259674",
     "status": "completed"
    },
    "tags": []
   },
   "outputs": [],
   "source": [
    "from keras.layers import Dense, Flatten, Reshape\n",
    "from keras.models import Sequential"
   ]
  },
  {
   "cell_type": "code",
   "execution_count": null,
   "id": "6760ebb2",
   "metadata": {
    "execution": {
     "iopub.execute_input": "2024-02-14T15:09:59.989034Z",
     "iopub.status.busy": "2024-02-14T15:09:59.988676Z",
     "iopub.status.idle": "2024-02-14T15:09:59.993158Z",
     "shell.execute_reply": "2024-02-14T15:09:59.992194Z"
    },
    "is_executing": true,
    "papermill": {
     "duration": 6.214598,
     "end_time": "2024-02-14T15:09:59.995483",
     "exception": false,
     "start_time": "2024-02-14T15:09:53.780885",
     "status": "completed"
    },
    "tags": []
   },
   "outputs": [],
   "source": [
    "random_latent_samples = np.random.rand(10, 10)"
   ]
  },
  {
   "cell_type": "code",
   "execution_count": null,
   "id": "df35ad87",
   "metadata": {
    "execution": {
     "iopub.execute_input": "2024-02-14T15:10:12.529123Z",
     "iopub.status.busy": "2024-02-14T15:10:12.528800Z",
     "iopub.status.idle": "2024-02-14T15:10:12.572877Z",
     "shell.execute_reply": "2024-02-14T15:10:12.571063Z"
    },
    "is_executing": true,
    "papermill": {
     "duration": 6.417896,
     "end_time": "2024-02-14T15:10:12.575201",
     "exception": false,
     "start_time": "2024-02-14T15:10:06.157305",
     "status": "completed"
    },
    "tags": []
   },
   "outputs": [],
   "source": [
    "generator = Sequential([\n",
    "    Dense(128, activation='relu', input_dim=random_latent_samples.shape[1]),\n",
    "    Dense(784, activation='sigmoid'),\n",
    "    Reshape((28, 28, 1))\n",
    "])"
   ]
  },
  {
   "cell_type": "code",
   "execution_count": null,
   "id": "02df7fe3",
   "metadata": {
    "execution": {
     "iopub.execute_input": "2024-02-14T15:10:25.089643Z",
     "iopub.status.busy": "2024-02-14T15:10:25.089265Z",
     "iopub.status.idle": "2024-02-14T15:10:25.130029Z",
     "shell.execute_reply": "2024-02-14T15:10:25.129268Z"
    },
    "is_executing": true,
    "papermill": {
     "duration": 6.427619,
     "end_time": "2024-02-14T15:10:25.131868",
     "exception": false,
     "start_time": "2024-02-14T15:10:18.704249",
     "status": "completed"
    },
    "tags": []
   },
   "outputs": [],
   "source": [
    "discriminator = Sequential([\n",
    "    Flatten(input_shape=(28, 28, 1)),\n",
    "    Dense(128, activation='relu'),\n",
    "    Dense(1, activation='sigmoid')\n",
    "])"
   ]
  },
  {
   "cell_type": "code",
   "execution_count": null,
   "id": "7f6caae9",
   "metadata": {
    "execution": {
     "iopub.execute_input": "2024-02-14T15:10:37.540098Z",
     "iopub.status.busy": "2024-02-14T15:10:37.539308Z",
     "iopub.status.idle": "2024-02-14T15:10:37.550322Z",
     "shell.execute_reply": "2024-02-14T15:10:37.549451Z"
    },
    "is_executing": true,
    "papermill": {
     "duration": 6.209307,
     "end_time": "2024-02-14T15:10:37.552421",
     "exception": false,
     "start_time": "2024-02-14T15:10:31.343114",
     "status": "completed"
    },
    "tags": []
   },
   "outputs": [],
   "source": [
    "discriminator.compile(optimizer='adam', loss='binary_crossentropy', metrics=['accuracy'])"
   ]
  },
  {
   "cell_type": "code",
   "execution_count": null,
   "id": "75f32206",
   "metadata": {
    "execution": {
     "iopub.execute_input": "2024-02-14T15:10:49.931110Z",
     "iopub.status.busy": "2024-02-14T15:10:49.930752Z",
     "iopub.status.idle": "2024-02-14T15:10:49.984273Z",
     "shell.execute_reply": "2024-02-14T15:10:49.983344Z"
    },
    "is_executing": true,
    "papermill": {
     "duration": 6.250256,
     "end_time": "2024-02-14T15:10:49.986425",
     "exception": false,
     "start_time": "2024-02-14T15:10:43.736169",
     "status": "completed"
    },
    "tags": []
   },
   "outputs": [],
   "source": [
    "discriminator.trainable = False\n",
    "\n",
    "# Define GAN model\n",
    "gan = Sequential([\n",
    "    generator,\n",
    "    discriminator\n",
    "])\n",
    "\n",
    "# Compile GAN\n",
    "gan.compile(optimizer='adam', loss='binary_crossentropy')"
   ]
  },
  {
   "cell_type": "code",
   "execution_count": null,
   "id": "c8efed48",
   "metadata": {
    "execution": {
     "iopub.execute_input": "2024-02-14T15:11:02.442594Z",
     "iopub.status.busy": "2024-02-14T15:11:02.442205Z",
     "iopub.status.idle": "2024-02-14T15:11:02.448630Z",
     "shell.execute_reply": "2024-02-14T15:11:02.447807Z"
    },
    "is_executing": true,
    "papermill": {
     "duration": 6.251843,
     "end_time": "2024-02-14T15:11:02.450422",
     "exception": false,
     "start_time": "2024-02-14T15:10:56.198579",
     "status": "completed"
    },
    "tags": []
   },
   "outputs": [],
   "source": [
    "def Discriminator(input_dim):\n",
    "     latent_dim = 50\n",
    "     hidden_dim = 80\n",
    "     reconstruction_acc = 0.97\n",
    "     max_epochs = 300\n",
    "     input_dim = input_dim\n",
    "     discriminator = keras.Sequential([\n",
    "         layers.Input(shape=(input_dim,)), \n",
    "         layers.Dense(hidden_dim),\n",
    "         layers.BatchNormalization(),\n",
    "         layers.ReLU(),\n",
    "         layers.Dense(latent_dim),\n",
    "         layers.BatchNormalization(),\n",
    "         layers.ReLU(),\n",
    "         layers.Dense(hidden_dim),\n",
    "         layers.BatchNormalization(),\n",
    "         layers.ReLU(),\n",
    "         layers.Dense(input_dim)\n",
    "     ])"
   ]
  },
  {
   "cell_type": "code",
   "execution_count": null,
   "id": "3623da37",
   "metadata": {
    "execution": {
     "iopub.execute_input": "2024-02-14T15:11:14.943025Z",
     "iopub.status.busy": "2024-02-14T15:11:14.942697Z",
     "iopub.status.idle": "2024-02-14T15:11:14.949100Z",
     "shell.execute_reply": "2024-02-14T15:11:14.948054Z"
    },
    "is_executing": true,
    "papermill": {
     "duration": 6.35467,
     "end_time": "2024-02-14T15:11:14.951241",
     "exception": false,
     "start_time": "2024-02-14T15:11:08.596571",
     "status": "completed"
    },
    "tags": []
   },
   "outputs": [],
   "source": [
    "def Generator():\n",
    "     latent_dim = 50\n",
    "     hidden_dim = 80\n",
    "     reconstruction_acc = 0.058\n",
    "     max_epochs = 250\n",
    "     generator_input = Input(shape =  (latent_dim,))\n",
    "     labels = Input(shape = (1,))\n",
    "    \n",
    "     x = concatenate([generator_input,label_dim])\n",
    "     x = Dense(80, activation=\"relu\")(x)\n",
    "     x = BatchNormalization()(x)\n",
    "     x = Dense(\"Add the input size\")(x)\n",
    "    \n",
    "     x = concatenate(x,labels)\n",
    "    \n",
    "     return x"
   ]
  },
  {
   "cell_type": "code",
   "execution_count": null,
   "id": "40c3f39a",
   "metadata": {
    "execution": {
     "iopub.execute_input": "2024-02-14T15:11:27.285316Z",
     "iopub.status.busy": "2024-02-14T15:11:27.284485Z",
     "iopub.status.idle": "2024-02-14T15:11:27.354511Z",
     "shell.execute_reply": "2024-02-14T15:11:27.353770Z"
    },
    "is_executing": true,
    "papermill": {
     "duration": 6.29025,
     "end_time": "2024-02-14T15:11:27.356373",
     "exception": false,
     "start_time": "2024-02-14T15:11:21.066123",
     "status": "completed"
    },
    "tags": []
   },
   "outputs": [],
   "source": [
    "discriminator = build_discriminator(input_shape, hidden_layer_size)\n",
    "discriminator.compile(loss='binary_crossentropy', optimizer=Adam(learning_rate=0.0002), metrics=['accuracy'])"
   ]
  },
  {
   "cell_type": "code",
   "execution_count": null,
   "id": "38aeefed",
   "metadata": {
    "is_executing": true,
    "papermill": {
     "duration": 6.260046,
     "end_time": "2024-02-14T15:11:39.829689",
     "exception": false,
     "start_time": "2024-02-14T15:11:33.569643",
     "status": "completed"
    },
    "tags": []
   },
   "outputs": [],
   "source": []
  }
 ],
 "metadata": {
  "kaggle": {
   "accelerator": "gpu",
   "dataSources": [
    {
     "datasetId": 464228,
     "sourceId": 872432,
     "sourceType": "datasetVersion"
    }
   ],
   "dockerImageVersionId": 30648,
   "isGpuEnabled": true,
   "isInternetEnabled": true,
   "language": "python",
   "sourceType": "notebook"
  },
  "kernelspec": {
   "display_name": "Python 3 (ipykernel)",
   "language": "python",
   "name": "python3"
  },
  "language_info": {
   "codemirror_mode": {
    "name": "ipython",
    "version": 3
   },
   "file_extension": ".py",
   "mimetype": "text/x-python",
   "name": "python",
   "nbconvert_exporter": "python",
   "pygments_lexer": "ipython3",
   "version": "3.11.5"
  },
  "papermill": {
   "default_parameters": {},
   "duration": 4415.694974,
   "end_time": "2024-02-14T15:11:48.170680",
   "environment_variables": {},
   "exception": null,
   "input_path": "__notebook__.ipynb",
   "output_path": "__notebook__.ipynb",
   "parameters": {},
   "start_time": "2024-02-14T13:58:12.475706",
   "version": "2.5.0"
  }
 },
 "nbformat": 4,
 "nbformat_minor": 5
}
